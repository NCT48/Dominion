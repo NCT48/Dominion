{
 "cells": [
  {
   "cell_type": "code",
   "execution_count": 1,
   "metadata": {},
   "outputs": [],
   "source": [
    "import numpy as np\n",
    "import pandas as pd\n",
    "import matplotlib.pyplot as plt"
   ]
  },
  {
   "cell_type": "code",
   "execution_count": 2,
   "metadata": {
    "scrolled": false
   },
   "outputs": [
    {
     "data": {
      "text/html": [
       "<div>\n",
       "<style scoped>\n",
       "    .dataframe tbody tr th:only-of-type {\n",
       "        vertical-align: middle;\n",
       "    }\n",
       "\n",
       "    .dataframe tbody tr th {\n",
       "        vertical-align: top;\n",
       "    }\n",
       "\n",
       "    .dataframe thead th {\n",
       "        text-align: right;\n",
       "    }\n",
       "</style>\n",
       "<table border=\"1\" class=\"dataframe\">\n",
       "  <thead>\n",
       "    <tr style=\"text-align: right;\">\n",
       "      <th></th>\n",
       "      <th>Turn</th>\n",
       "      <th>Hund</th>\n",
       "      <th>UselessMoney</th>\n",
       "      <th>Refresh</th>\n",
       "    </tr>\n",
       "  </thead>\n",
       "  <tbody>\n",
       "    <tr>\n",
       "      <th>0</th>\n",
       "      <td>14</td>\n",
       "      <td>屋銅銅銅銅/屋屋銅銅銅/屋屋銀銅銅/屋屋銅銅銅銅銅鍛/屋銀銀銅銅/金銀銀銅銅銅銅鍛/屋銀銅銅...</td>\n",
       "      <td>0/0/1/2/0/5/2/2/3/0/1/1/2/0</td>\n",
       "      <td>0/0/1/2/2/3/3/4/4/5/5/5/6/6</td>\n",
       "    </tr>\n",
       "    <tr>\n",
       "      <th>1</th>\n",
       "      <td>15</td>\n",
       "      <td>屋銅銅銅銅/屋屋銅銅銅/屋銀銅銅銅銅銅鍛/屋屋銅銅銅/屋金銀銅銅銅銅鍛/屋金銀銅銅/屋銅銅銅...</td>\n",
       "      <td>0/0/1/0/3/1/1/1/0/0/0/0/0/1/2</td>\n",
       "      <td>0/0/1/2/2/3/3/4/4/5/5/5/6/6/6</td>\n",
       "    </tr>\n",
       "    <tr>\n",
       "      <th>2</th>\n",
       "      <td>16</td>\n",
       "      <td>屋銅銅銅銅/屋屋銅銅銅/屋屋銅銅銅銅銅鍛/屋屋銀銅銅/屋銀銅銅銅銅銅鍛/屋金銀銅銅銅銅鍛/屋...</td>\n",
       "      <td>0/0/2/1/1/3/1/2/1/1/0/1/2/1/1/0</td>\n",
       "      <td>0/0/1/2/2/3/3/4/4/5/5/5/6/6/6/6</td>\n",
       "    </tr>\n",
       "    <tr>\n",
       "      <th>3</th>\n",
       "      <td>14</td>\n",
       "      <td>屋屋銅銅銅/屋銅銅銅銅/屋銀銅銅銅銅銅鍛/屋屋銅銅銅/屋金銀銅銅/屋金銅銅銅銅銅鍛/屋屋銀銀...</td>\n",
       "      <td>0/0/1/0/1/0/2/0/1/2/0/0/1/2</td>\n",
       "      <td>0/0/1/2/2/3/3/4/4/5/5/5/6/6</td>\n",
       "    </tr>\n",
       "    <tr>\n",
       "      <th>4</th>\n",
       "      <td>17</td>\n",
       "      <td>屋銅銅銅銅/屋屋銅銅銅/屋銀銅銅銅/屋銅銅銅銅/屋屋銀銀銅銅銅鍛/屋銀銅銅銅/屋屋金銅銅/屋...</td>\n",
       "      <td>0/0/2/1/1/2/2/2/0/2/4/0/0/3/0/1/0</td>\n",
       "      <td>0/0/1/1/2/2/3/3/4/4/4/5/5/5/6/6/6</td>\n",
       "    </tr>\n",
       "  </tbody>\n",
       "</table>\n",
       "</div>"
      ],
      "text/plain": [
       "   Turn                                               Hund  \\\n",
       "0    14  屋銅銅銅銅/屋屋銅銅銅/屋屋銀銅銅/屋屋銅銅銅銅銅鍛/屋銀銀銅銅/金銀銀銅銅銅銅鍛/屋銀銅銅...   \n",
       "1    15  屋銅銅銅銅/屋屋銅銅銅/屋銀銅銅銅銅銅鍛/屋屋銅銅銅/屋金銀銅銅銅銅鍛/屋金銀銅銅/屋銅銅銅...   \n",
       "2    16  屋銅銅銅銅/屋屋銅銅銅/屋屋銅銅銅銅銅鍛/屋屋銀銅銅/屋銀銅銅銅銅銅鍛/屋金銀銅銅銅銅鍛/屋...   \n",
       "3    14  屋屋銅銅銅/屋銅銅銅銅/屋銀銅銅銅銅銅鍛/屋屋銅銅銅/屋金銀銅銅/屋金銅銅銅銅銅鍛/屋屋銀銀...   \n",
       "4    17  屋銅銅銅銅/屋屋銅銅銅/屋銀銅銅銅/屋銅銅銅銅/屋屋銀銀銅銅銅鍛/屋銀銅銅銅/屋屋金銅銅/屋...   \n",
       "\n",
       "                        UselessMoney                            Refresh  \n",
       "0        0/0/1/2/0/5/2/2/3/0/1/1/2/0        0/0/1/2/2/3/3/4/4/5/5/5/6/6  \n",
       "1      0/0/1/0/3/1/1/1/0/0/0/0/0/1/2      0/0/1/2/2/3/3/4/4/5/5/5/6/6/6  \n",
       "2    0/0/2/1/1/3/1/2/1/1/0/1/2/1/1/0    0/0/1/2/2/3/3/4/4/5/5/5/6/6/6/6  \n",
       "3        0/0/1/0/1/0/2/0/1/2/0/0/1/2        0/0/1/2/2/3/3/4/4/5/5/5/6/6  \n",
       "4  0/0/2/1/1/2/2/2/0/2/4/0/0/3/0/1/0  0/0/1/1/2/2/3/3/4/4/4/5/5/5/6/6/6  "
      ]
     },
     "execution_count": 2,
     "metadata": {},
     "output_type": "execute_result"
    }
   ],
   "source": [
    "smith_data = pd.read_csv('./TestProgramSmith.csv', header=0, index_col=0)\n",
    "smith_data.head()"
   ]
  },
  {
   "cell_type": "code",
   "execution_count": 3,
   "metadata": {
    "scrolled": true
   },
   "outputs": [
    {
     "name": "stdout",
     "output_type": "stream",
     "text": [
      "count    50000.000000\n",
      "mean        15.021640\n",
      "std          1.725245\n",
      "min          9.000000\n",
      "25%         14.000000\n",
      "50%         15.000000\n",
      "75%         16.000000\n",
      "max         24.000000\n",
      "Name: Turn, dtype: float64\n"
     ]
    }
   ],
   "source": [
    "smith_data_des = smith_data[\"Turn\"].describe()\n",
    "print(smith_data_des)"
   ]
  },
  {
   "cell_type": "code",
   "execution_count": 4,
   "metadata": {},
   "outputs": [
    {
     "data": {
      "text/plain": [
       "(8.5, 24.5)"
      ]
     },
     "execution_count": 4,
     "metadata": {},
     "output_type": "execute_result"
    }
   ],
   "source": [
    "Bins = smith_data[\"Turn\"].max() - smith_data[\"Turn\"].min() + 1\n",
    "Range = (smith_data[\"Turn\"].min()-0.5, smith_data[\"Turn\"].max()+0.5)\n",
    "Range"
   ]
  },
  {
   "cell_type": "code",
   "execution_count": 5,
   "metadata": {},
   "outputs": [
    {
     "data": {
      "text/plain": [
       "(array([1.0000e-04, 5.8000e-04, 1.3180e-02, 4.0760e-02, 1.3736e-01,\n",
       "        2.0556e-01, 2.2480e-01, 1.9138e-01, 1.0904e-01, 4.9040e-02,\n",
       "        1.9740e-02, 6.4600e-03, 1.5400e-03, 3.6000e-04, 8.0000e-05,\n",
       "        2.0000e-05]),\n",
       " array([ 8.5,  9.5, 10.5, 11.5, 12.5, 13.5, 14.5, 15.5, 16.5, 17.5, 18.5,\n",
       "        19.5, 20.5, 21.5, 22.5, 23.5, 24.5]),\n",
       " <a list of 16 Patch objects>)"
      ]
     },
     "execution_count": 5,
     "metadata": {},
     "output_type": "execute_result"
    },
    {
     "data": {
      "image/png": "[encoded data removed]",
      "text/plain": [
       "<Figure size 432x288 with 1 Axes>"
      ]
     },
     "metadata": {},
     "output_type": "display_data"
    }
   ],
   "source": [
    "plt.hist(smith_data[\"Turn\"], bins=Bins, range=Range, density=True, rwidth=0.5)"
   ]
  },
  {
   "cell_type": "code",
   "execution_count": 6,
   "metadata": {},
   "outputs": [],
   "source": [
    "#smith_data34 = smith_data[smith_data[\"Hund\"].str.startswith(\"屋屋銅銅銅/\", \"屋銅銅銅銅/\")]\n",
    "#smith_data25 = smith_data[smith_data[\"Hund\"].str.startswith(\"銅銅銅銅銅/\", \"屋屋屋銅銅/\")]\n",
    "smith_data34 = smith_data[smith_data[\"Hund\"].str.contains(\"^(?:屋屋銅銅銅/|屋銅銅銅銅/)\")]\n",
    "smith_data25 = smith_data[smith_data[\"Hund\"].str.contains(\"^(?:屋屋屋銅銅/|銅銅銅銅銅/)\")]"
   ]
  },
  {
   "cell_type": "code",
   "execution_count": 7,
   "metadata": {},
   "outputs": [
    {
     "data": {
      "text/plain": [
       "(count    8510.000000\n",
       " mean       15.864747\n",
       " std         1.710349\n",
       " min        11.000000\n",
       " 25%        15.000000\n",
       " 50%        16.000000\n",
       " 75%        17.000000\n",
       " max        24.000000\n",
       " Name: Turn, dtype: float64, count    41490.000000\n",
       " mean        14.848711\n",
       " std          1.676703\n",
       " min          9.000000\n",
       " 25%         14.000000\n",
       " 50%         15.000000\n",
       " 75%         16.000000\n",
       " max         23.000000\n",
       " Name: Turn, dtype: float64)"
      ]
     },
     "execution_count": 7,
     "metadata": {},
     "output_type": "execute_result"
    }
   ],
   "source": [
    "smith_data34_des = smith_data34[\"Turn\"].describe()\n",
    "smith_data25_des = smith_data25[\"Turn\"].describe()\n",
    "\n",
    "smith_data25_des, smith_data34_des"
   ]
  },
  {
   "cell_type": "code",
   "execution_count": 8,
   "metadata": {},
   "outputs": [
    {
     "data": {
      "text/plain": [
       "([array([0.00000000e+00, 0.00000000e+00, 1.52761457e-03, 1.78613396e-02,\n",
       "         4.55934195e-02, 1.54759107e-01, 2.10223267e-01, 2.22796710e-01,\n",
       "         1.90481786e-01, 9.16568743e-02, 4.08930670e-02, 1.85663925e-02,\n",
       "         4.58284371e-03, 8.22561692e-04, 1.17508813e-04, 1.17508813e-04]),\n",
       "  array([1.20510966e-04, 6.98963606e-04, 1.55700169e-02, 4.54567366e-02,\n",
       "         1.56182213e-01, 2.15979754e-01, 2.27789829e-01, 1.84936129e-01,\n",
       "         9.23355025e-02, 4.02988672e-02, 1.54013015e-02, 3.97686189e-03,\n",
       "         9.15883345e-04, 2.65124126e-04, 7.23065799e-05, 0.00000000e+00])],\n",
       " array([ 8.5,  9.5, 10.5, 11.5, 12.5, 13.5, 14.5, 15.5, 16.5, 17.5, 18.5,\n",
       "        19.5, 20.5, 21.5, 22.5, 23.5, 24.5]),\n",
       " <a list of 2 Lists of Patches objects>)"
      ]
     },
     "execution_count": 8,
     "metadata": {},
     "output_type": "execute_result"
    },
    {
     "data": {
      "image/png": "[encoded data removed]",
      "text/plain": [
       "<Figure size 432x288 with 1 Axes>"
      ]
     },
     "metadata": {},
     "output_type": "display_data"
    }
   ],
   "source": [
    "plt.hist([smith_data25[\"Turn\"],smith_data34[\"Turn\"]],bins=Bins, range=Range, density=True, rwidth=0.5)"
   ]
  },
  {
   "cell_type": "code",
   "execution_count": 9,
   "metadata": {},
   "outputs": [],
   "source": [
    "smith_data_sizumi = smith_data[smith_data[\"Hund\"].str.find(\"鍛\") == 31]\n",
    "smith_data_sizumazu = smith_data[smith_data[\"Hund\"].str.find(\"鍛\") != 31]"
   ]
  },
  {
   "cell_type": "code",
   "execution_count": 10,
   "metadata": {},
   "outputs": [
    {
     "data": {
      "text/plain": [
       "(count    7754.000000\n",
       " mean       15.401470\n",
       " std         1.674045\n",
       " min        10.000000\n",
       " 25%        14.000000\n",
       " 50%        15.000000\n",
       " 75%        16.000000\n",
       " max        23.000000\n",
       " Name: Turn, dtype: float64, count    42246.000000\n",
       " mean        14.951924\n",
       " std          1.725440\n",
       " min          9.000000\n",
       " 25%         14.000000\n",
       " 50%         15.000000\n",
       " 75%         16.000000\n",
       " max         24.000000\n",
       " Name: Turn, dtype: float64)"
      ]
     },
     "execution_count": 10,
     "metadata": {},
     "output_type": "execute_result"
    }
   ],
   "source": [
    "smith_data_sizumi_des = smith_data_sizumi[\"Turn\"].describe()\n",
    "smith_data_sizumazu_des = smith_data_sizumazu[\"Turn\"].describe()\n",
    "\n",
    "smith_data_sizumi_des, smith_data_sizumazu_des"
   ]
  },
  {
   "cell_type": "code",
   "execution_count": 11,
   "metadata": {},
   "outputs": [
    {
     "data": {
      "text/plain": [
       "([array([0.00000000e+00, 1.28965695e-04, 1.41862265e-03, 3.04359040e-02,\n",
       "         9.11787465e-02, 1.73329894e-01, 2.52901728e-01, 2.04668558e-01,\n",
       "         1.38638122e-01, 7.26076864e-02, 2.28269280e-02, 8.64070157e-03,\n",
       "         2.19241682e-03, 9.02759866e-04, 1.28965695e-04, 0.00000000e+00]),\n",
       "  array([1.18354400e-04, 6.62784642e-04, 1.53387303e-02, 4.26549259e-02,\n",
       "         1.45836292e-01, 2.11475643e-01, 2.19642096e-01, 1.88940965e-01,\n",
       "         1.03607442e-01, 4.47142925e-02, 1.91734129e-02, 6.05974530e-03,\n",
       "         1.42025280e-03, 2.60379681e-04, 7.10126402e-05, 2.36708801e-05])],\n",
       " array([ 8.5,  9.5, 10.5, 11.5, 12.5, 13.5, 14.5, 15.5, 16.5, 17.5, 18.5,\n",
       "        19.5, 20.5, 21.5, 22.5, 23.5, 24.5]),\n",
       " <a list of 2 Lists of Patches objects>)"
      ]
     },
     "execution_count": 11,
     "metadata": {},
     "output_type": "execute_result"
    },
    {
     "data": {
      "image/png": "[encoded data removed]",
      "text/plain": [
       "<Figure size 432x288 with 1 Axes>"
      ]
     },
     "metadata": {},
     "output_type": "display_data"
    }
   ],
   "source": [
    "plt.hist([smith_data_sizumi[\"Turn\"],smith_data_sizumazu[\"Turn\"]], bins=Bins, range=Range, density=True, rwidth=0.5)"
   ]
  },
  {
   "cell_type": "code",
   "execution_count": 12,
   "metadata": {},
   "outputs": [],
   "source": [
    "smithTry = smith_data['Turn'].quantile([0,0.33,0.66,1]).tolist()\n",
    "try_cat = ['速','中','遅']\n",
    "smith_data['TurnLabel'] = pd.cut(smith_data['Turn'], smithTry, labels=try_cat, include_lowest=True, right=True)"
   ]
  },
  {
   "cell_type": "code",
   "execution_count": 13,
   "metadata": {
    "scrolled": true
   },
   "outputs": [
    {
     "name": "stdout",
     "output_type": "stream",
     "text": [
      "count    19877.000000\n",
      "mean         4.101474\n",
      "std          0.833501\n",
      "min          2.000000\n",
      "25%          4.000000\n",
      "50%          4.000000\n",
      "75%          5.000000\n",
      "max          7.000000\n",
      "Name: Hund, dtype: float64\n",
      "count    9314.000000\n",
      "mean        4.615310\n",
      "std         0.853279\n",
      "min         3.000000\n",
      "25%         4.000000\n",
      "50%         5.000000\n",
      "75%         5.000000\n",
      "max         8.000000\n",
      "Name: Hund, dtype: float64\n"
     ]
    }
   ],
   "source": [
    "smith_dataF = smith_data[smith_data[\"TurnLabel\"]==\"速\"]\n",
    "smith_dataM = smith_data[smith_data[\"TurnLabel\"]==\"中\"]\n",
    "smith_dataS = smith_data[smith_data[\"TurnLabel\"]==\"遅\"]\n",
    "\n",
    "print(smith_dataF[\"Hund\"].str.count(\"鍛\").describe())\n",
    "print(smith_dataS[\"Hund\"].str.count(\"鍛\").describe())"
   ]
  },
  {
   "cell_type": "code",
   "execution_count": 14,
   "metadata": {},
   "outputs": [
    {
     "name": "stdout",
     "output_type": "stream",
     "text": [
      "160    屋屋銅銅銅/屋銅銅銅銅/屋屋銀銅銅銅銅鍛/屋金銅銅銅/屋銀銅銅銅/屋金銅銅銅銅銅鍛/屋屋金銀...\n",
      "182    屋屋銅銅銅/屋銅銅銅銅/屋銀銅銅銅銅銅鍛/屋屋屋銅銅/金銀銅銅銅銅銅鍛/屋屋銅銅銅/屋金金銀...\n",
      "356    屋屋銅銅銅/屋銅銅銅銅/屋屋銀銅銅銅銅鍛/屋金銅銅銅/屋屋銀銅銅銅銅鍛/屋屋金銅銅/屋金金銀...\n",
      "398    屋銅銅銅銅/屋屋銅銅銅/屋屋銀銅銅銅銅鍛/屋屋銅銅銅/金銀銅銅銅/屋屋金銀銀銅銅鍛/屋銅銅銅...\n",
      "471    屋屋銅銅銅/屋銅銅銅銅/銀銅銅銅銅銅銅鍛/屋屋屋銀銅銅銅鍛/金銅銅銅銅/屋屋屋金銀/金銀銅銅...\n",
      "Name: Hund, dtype: object\n",
      "160    0/0/1/2/2/3/3/4/4/5/5\n",
      "182    0/0/1/2/2/3/3/4/4/5/5\n",
      "356    0/0/1/2/2/3/3/4/4/5/5\n",
      "398    0/0/1/2/2/3/3/4/4/5/5\n",
      "471    0/0/1/2/2/3/3/4/4/5/5\n",
      "Name: Refresh, dtype: object\n",
      "160    0/0/0/0/2/0/0/2/2/1/2\n",
      "182    0/0/1/2/4/0/3/1/1/0/0\n",
      "356    0/0/0/0/0/2/1/0/0/1/1\n",
      "398    0/0/0/0/2/1/1/0/1/2/2\n",
      "471    0/0/2/2/1/2/0/1/0/0/0\n",
      "Name: UselessMoney, dtype: object\n"
     ]
    }
   ],
   "source": [
    "print(smith_data[smith_data[\"Turn\"] == 11][\"Hund\"].head())\n",
    "print(smith_data[smith_data[\"Turn\"] == 11][\"Refresh\"].head())\n",
    "print(smith_data[smith_data[\"Turn\"] == 11][\"UselessMoney\"].head())"
   ]
  },
  {
   "cell_type": "code",
   "execution_count": 15,
   "metadata": {},
   "outputs": [
    {
     "name": "stdout",
     "output_type": "stream",
     "text": [
      "16     銅銅銅銅銅/屋屋屋銅銅/屋銅銅銅銅銅銅鍛/屋屋銅銅銅/屋金銅銅銅銅銅鍛/屋屋銀銅銅/屋屋銀銅...\n",
      "45     銅銅銅銅銅/屋屋屋銅銅/屋屋銅銅銅銅銅鍛/屋屋銅銅銅/屋銅銅銅銅/屋屋銀銀銀銅銅鍛/銅銅銅銅...\n",
      "83     屋銅銅銅銅/屋屋銅銅銅/屋銅銅銅銅/屋屋銀銅銅銅銅鍛/屋銀銅銅銅/屋銀銅銅銅/屋屋金銅銅/屋...\n",
      "94     屋屋屋銅銅/銅銅銅銅銅/屋屋銅銅銅銅銅鍛/屋屋銅銅銅/屋銅銅銅銅/屋屋銀銀銅銅銅鍛/屋銅銅銅...\n",
      "161    屋屋銅銅銅/屋銅銅銅銅/屋屋銀銅銅銅銅鍛/屋屋屋銅銅銅銅鍛/金銀銅銅銅/金銀銀銅銅/屋屋金銅...\n",
      "Name: Hund, dtype: object\n",
      "16     0/0/1/2/3/3/4/4/5/5/6/6/6/7/7/7/8/8/8\n",
      "45     0/0/1/2/2/3/3/4/4/5/5/5/6/6/6/7/7/7/7\n",
      "83     0/0/1/2/2/3/3/4/4/5/5/5/6/6/6/7/7/7/7\n",
      "94     0/0/1/2/2/3/3/4/4/5/5/5/6/6/6/7/7/7/7\n",
      "161    0/0/1/2/2/3/3/4/4/5/5/5/6/6/6/7/7/7/7\n",
      "Name: Refresh, dtype: object\n",
      "16     1/2/0/0/2/1/1/4/2/0/0/1/0/1/2/1/1/0/3\n",
      "45     1/2/2/0/1/2/2/2/1/1/1/1/1/1/0/3/1/0/3\n",
      "83     0/0/1/0/2/2/2/2/0/2/2/0/6/0/0/1/1/1/0\n",
      "94     2/1/2/0/1/1/1/4/0/0/0/2/2/0/0/2/1/1/4\n",
      "161    0/0/0/1/2/1/1/2/2/1/1/2/1/1/0/6/1/1/3\n",
      "Name: UselessMoney, dtype: object\n"
     ]
    }
   ],
   "source": [
    "print(smith_data[smith_data[\"Turn\"] == 19][\"Hund\"].head())\n",
    "print(smith_data[smith_data[\"Turn\"] == 19][\"Refresh\"].head())\n",
    "print(smith_data[smith_data[\"Turn\"] == 19][\"UselessMoney\"].head())"
   ]
  },
  {
   "cell_type": "code",
   "execution_count": 16,
   "metadata": {
    "scrolled": true
   },
   "outputs": [
    {
     "name": "stdout",
     "output_type": "stream",
     "text": [
      "3989     屋屋屋銅銅/銅銅銅銅銅/屋屋屋銅銅銅銅鍛/銀銅銅銅銅/屋屋屋銅銅銅銅鍛/金銀銅銅銅/屋金金銅...\n",
      "6667     屋屋屋銅銅/銅銅銅銅銅/屋銅銅銅銅銅銅鍛/屋屋銅銅銅銅銅鍛/屋金銅銅銅/屋屋銀銅銅銅銅鍛/屋...\n",
      "7924     屋屋屋銅銅/銅銅銅銅銅/屋屋銅銅銅/屋屋銀銅銅銅銅鍛/屋金銅銅銅/屋屋銀銅銅銅銅鍛/屋屋金金...\n",
      "8512     屋屋屋銅銅/銅銅銅銅銅/屋屋銅銅銅/屋銀銅銅銅銅銅鍛/屋屋銅銅銅/金銀銅銅銅/屋銀銀銅銅銅銅...\n",
      "12948    屋屋屋銅銅/銅銅銅銅銅/屋屋銅銅銅/屋銀銅銅銅銅銅鍛/屋屋銀銅銅銅銅鍛/屋金銅銅銅/屋屋金金...\n",
      "Name: Hund, dtype: object\n",
      "3989     0/0/1/2/3/3/4/4/5/5/6\n",
      "6667     0/0/1/2/3/3/4/4/5/5/6\n",
      "7924     0/0/1/2/3/3/4/4/5/5/6\n",
      "8512     0/0/1/2/3/3/4/4/5/5/6\n",
      "12948    0/0/1/2/3/3/4/4/5/5/6\n",
      "Name: Refresh, dtype: object\n",
      "3989     2/1/1/0/1/2/0/0/0/1/0\n",
      "6667     2/1/0/2/0/0/0/0/1/1/3\n",
      "7924     2/1/0/0/0/0/2/0/0/0/0\n",
      "8512     2/1/0/1/0/2/0/0/2/0/0\n",
      "12948    2/1/0/1/0/0/1/0/0/0/0\n",
      "Name: UselessMoney, dtype: object\n"
     ]
    }
   ],
   "source": [
    "print(smith_data25[smith_data25[\"Turn\"] == 11][\"Hund\"].head())\n",
    "print(smith_data25[smith_data25[\"Turn\"] == 11][\"Refresh\"].head())\n",
    "print(smith_data25[smith_data25[\"Turn\"] == 11][\"UselessMoney\"].head())"
   ]
  },
  {
   "cell_type": "code",
   "execution_count": null,
   "metadata": {},
   "outputs": [],
   "source": []
  }
 ],
 "metadata": {
  "kernelspec": {
   "display_name": "Python 3",
   "language": "python",
   "name": "python3"
  },
  "language_info": {
   "codemirror_mode": {
    "name": "ipython",
    "version": 3
   },
   "file_extension": ".py",
   "mimetype": "text/x-python",
   "name": "python",
   "nbconvert_exporter": "python",
   "pygments_lexer": "ipython3",
   "version": "3.6.5"
  }
 },
 "nbformat": 4,
 "nbformat_minor": 2
}
