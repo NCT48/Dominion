{
 "cells": [
  {
   "cell_type": "code",
   "execution_count": 1,
   "metadata": {},
   "outputs": [],
   "source": [
    "import numpy as np\n",
    "import pandas as pd\n",
    "import matplotlib.pyplot as plt"
   ]
  },
  {
   "cell_type": "code",
   "execution_count": 2,
   "metadata": {
    "scrolled": false
   },
   "outputs": [
    {
     "data": {
      "text/html": [
       "<div>\n",
       "<style scoped>\n",
       "    .dataframe tbody tr th:only-of-type {\n",
       "        vertical-align: middle;\n",
       "    }\n",
       "\n",
       "    .dataframe tbody tr th {\n",
       "        vertical-align: top;\n",
       "    }\n",
       "\n",
       "    .dataframe thead th {\n",
       "        text-align: right;\n",
       "    }\n",
       "</style>\n",
       "<table border=\"1\" class=\"dataframe\">\n",
       "  <thead>\n",
       "    <tr style=\"text-align: right;\">\n",
       "      <th></th>\n",
       "      <th>Turn</th>\n",
       "      <th>Hund</th>\n",
       "      <th>AllMoney</th>\n",
       "      <th>Money</th>\n",
       "      <th>UselessMoney</th>\n",
       "      <th>Refresh</th>\n",
       "    </tr>\n",
       "    <tr>\n",
       "      <th>ID</th>\n",
       "      <th></th>\n",
       "      <th></th>\n",
       "      <th></th>\n",
       "      <th></th>\n",
       "      <th></th>\n",
       "      <th></th>\n",
       "    </tr>\n",
       "  </thead>\n",
       "  <tbody>\n",
       "    <tr>\n",
       "      <th>0</th>\n",
       "      <td>13</td>\n",
       "      <td>屋屋銅銅銅/屋銅銅銅銅/屋銀銅銅銅/屋屋銀銅銅銅銅鍛/屋銀銅銅銅/屋銀銅銅銅/屋金銀銅銅/屋...</td>\n",
       "      <td>9/9/11/14/16/18/21/21/21/24/24/26/26</td>\n",
       "      <td>3/4/5/6/5/5/7/8/9/6/8/5/8</td>\n",
       "      <td>0/0/2/0/2/2/1/0/1/0/0/2/0</td>\n",
       "      <td>0/0/1/2/2/3/3/4/4/5/5/5/6</td>\n",
       "    </tr>\n",
       "    <tr>\n",
       "      <th>1</th>\n",
       "      <td>18</td>\n",
       "      <td>銅銅銅銅銅/屋屋屋銅銅/銀銅銅銅銅/屋屋屋銅銅/屋銀銅銅銅/屋屋金銅銅/銀銅銅銅銅/屋屋銀銀...</td>\n",
       "      <td>9/9/12/12/14/16/19/21/24/24/26/26/29/31/31/34/...</td>\n",
       "      <td>5/2/6/2/5/5/6/5/7/10/3/10/6/5/8/7/4/10</td>\n",
       "      <td>2/2/0/2/2/2/0/2/1/2/0/2/0/2/0/1/0/2</td>\n",
       "      <td>0/0/1/1/2/2/3/3/4/4/4/5/5/5/6/6/6/6</td>\n",
       "    </tr>\n",
       "    <tr>\n",
       "      <th>2</th>\n",
       "      <td>16</td>\n",
       "      <td>屋銅銅銅銅/屋屋銅銅銅/屋屋屋銀銅銅銅鍛/銅銅銅銅銅/屋屋屋銀銀銅銅鍛/金銀銀銀銅銅銅鍛/屋...</td>\n",
       "      <td>7/9/11/13/16/19/21/24/27/27/30/33/33/35/35/35</td>\n",
       "      <td>4/3/5/5/6/12/3/7/7/8/7/6/13/4/8/8</td>\n",
       "      <td>0/0/2/2/0/6/0/1/1/0/1/0/5/1/0/0</td>\n",
       "      <td>0/0/1/2/2/3/3/4/4/5/5/5/6/6/6/7</td>\n",
       "    </tr>\n",
       "    <tr>\n",
       "      <th>3</th>\n",
       "      <td>12</td>\n",
       "      <td>屋屋銅銅銅/屋銅銅銅銅/屋銀銅銅銅銅銅鍛/屋屋銅銅銅/屋金銀銅銅銅銅鍛/屋屋銀銅銅/金金銅銅...</td>\n",
       "      <td>9/9/12/14/17/19/19/22/22/24/24/24</td>\n",
       "      <td>3/4/7/3/9/4/9/7/8/4/10/8</td>\n",
       "      <td>0/0/1/0/3/1/1/1/0/1/2/0</td>\n",
       "      <td>0/0/1/2/2/3/3/4/4/5/5/5</td>\n",
       "    </tr>\n",
       "    <tr>\n",
       "      <th>4</th>\n",
       "      <td>16</td>\n",
       "      <td>屋銅銅銅銅/屋屋銅銅銅/屋屋屋銅銅銅銅鍛/銀銅銅銅銅/屋屋屋銀銅/屋銀銅銅銅銅銅鍛/屋屋金銅...</td>\n",
       "      <td>7/9/11/14/16/19/21/24/27/27/30/30/30/32/35/35</td>\n",
       "      <td>4/3/4/6/3/7/5/7/7/10/6/8/11/4/7/11</td>\n",
       "      <td>0/0/1/0/0/1/2/1/1/2/0/0/3/1/1/3</td>\n",
       "      <td>0/0/1/2/2/3/3/4/4/5/5/5/6/6/6/7</td>\n",
       "    </tr>\n",
       "  </tbody>\n",
       "</table>\n",
       "</div>"
      ],
      "text/plain": [
       "    Turn                                               Hund  \\\n",
       "ID                                                            \n",
       "0     13  屋屋銅銅銅/屋銅銅銅銅/屋銀銅銅銅/屋屋銀銅銅銅銅鍛/屋銀銅銅銅/屋銀銅銅銅/屋金銀銅銅/屋...   \n",
       "1     18  銅銅銅銅銅/屋屋屋銅銅/銀銅銅銅銅/屋屋屋銅銅/屋銀銅銅銅/屋屋金銅銅/銀銅銅銅銅/屋屋銀銀...   \n",
       "2     16  屋銅銅銅銅/屋屋銅銅銅/屋屋屋銀銅銅銅鍛/銅銅銅銅銅/屋屋屋銀銀銅銅鍛/金銀銀銀銅銅銅鍛/屋...   \n",
       "3     12  屋屋銅銅銅/屋銅銅銅銅/屋銀銅銅銅銅銅鍛/屋屋銅銅銅/屋金銀銅銅銅銅鍛/屋屋銀銅銅/金金銅銅...   \n",
       "4     16  屋銅銅銅銅/屋屋銅銅銅/屋屋屋銅銅銅銅鍛/銀銅銅銅銅/屋屋屋銀銅/屋銀銅銅銅銅銅鍛/屋屋金銅...   \n",
       "\n",
       "                                             AllMoney  \\\n",
       "ID                                                      \n",
       "0                9/9/11/14/16/18/21/21/21/24/24/26/26   \n",
       "1   9/9/12/12/14/16/19/21/24/24/26/26/29/31/31/34/...   \n",
       "2       7/9/11/13/16/19/21/24/27/27/30/33/33/35/35/35   \n",
       "3                   9/9/12/14/17/19/19/22/22/24/24/24   \n",
       "4       7/9/11/14/16/19/21/24/27/27/30/30/30/32/35/35   \n",
       "\n",
       "                                     Money  \\\n",
       "ID                                           \n",
       "0                3/4/5/6/5/5/7/8/9/6/8/5/8   \n",
       "1   5/2/6/2/5/5/6/5/7/10/3/10/6/5/8/7/4/10   \n",
       "2        4/3/5/5/6/12/3/7/7/8/7/6/13/4/8/8   \n",
       "3                 3/4/7/3/9/4/9/7/8/4/10/8   \n",
       "4       4/3/4/6/3/7/5/7/7/10/6/8/11/4/7/11   \n",
       "\n",
       "                           UselessMoney                              Refresh  \n",
       "ID                                                                            \n",
       "0             0/0/2/0/2/2/1/0/1/0/0/2/0            0/0/1/2/2/3/3/4/4/5/5/5/6  \n",
       "1   2/2/0/2/2/2/0/2/1/2/0/2/0/2/0/1/0/2  0/0/1/1/2/2/3/3/4/4/4/5/5/5/6/6/6/6  \n",
       "2       0/0/2/2/0/6/0/1/1/0/1/0/5/1/0/0      0/0/1/2/2/3/3/4/4/5/5/5/6/6/6/7  \n",
       "3               0/0/1/0/3/1/1/1/0/1/2/0              0/0/1/2/2/3/3/4/4/5/5/5  \n",
       "4       0/0/1/0/0/1/2/1/1/2/0/0/3/1/1/3      0/0/1/2/2/3/3/4/4/5/5/5/6/6/6/7  "
      ]
     },
     "execution_count": 2,
     "metadata": {},
     "output_type": "execute_result"
    }
   ],
   "source": [
    "smith_data = pd.read_csv('./TestProgramSmith.csv', header=0, index_col=0)\n",
    "smith_data.head()"
   ]
  },
  {
   "cell_type": "code",
   "execution_count": 3,
   "metadata": {
    "scrolled": true
   },
   "outputs": [
    {
     "name": "stdout",
     "output_type": "stream",
     "text": [
      "count    50000.000000\n",
      "mean        15.110020\n",
      "std          1.775359\n",
      "min         10.000000\n",
      "25%         14.000000\n",
      "50%         15.000000\n",
      "75%         16.000000\n",
      "max         23.000000\n",
      "Name: Turn, dtype: float64\n"
     ]
    }
   ],
   "source": [
    "smith_data_des = smith_data[\"Turn\"].describe()\n",
    "print(smith_data_des)"
   ]
  },
  {
   "cell_type": "code",
   "execution_count": 4,
   "metadata": {},
   "outputs": [
    {
     "data": {
      "text/plain": [
       "(9.5, 23.5)"
      ]
     },
     "execution_count": 4,
     "metadata": {},
     "output_type": "execute_result"
    }
   ],
   "source": [
    "Bins = smith_data[\"Turn\"].max() - smith_data[\"Turn\"].min() + 1\n",
    "Range = (smith_data[\"Turn\"].min()-0.5, smith_data[\"Turn\"].max()+0.5)\n",
    "Range"
   ]
  },
  {
   "cell_type": "code",
   "execution_count": 5,
   "metadata": {},
   "outputs": [
    {
     "data": {
      "text/plain": [
       "(array([6.8000e-04, 1.3200e-02, 3.7940e-02, 1.3398e-01, 1.9610e-01,\n",
       "        2.2202e-01, 1.9084e-01, 1.1254e-01, 5.6920e-02, 2.4760e-02,\n",
       "        8.3200e-03, 2.1600e-03, 5.0000e-04, 4.0000e-05]),\n",
       " array([ 9.5, 10.5, 11.5, 12.5, 13.5, 14.5, 15.5, 16.5, 17.5, 18.5, 19.5,\n",
       "        20.5, 21.5, 22.5, 23.5]),\n",
       " <a list of 14 Patch objects>)"
      ]
     },
     "execution_count": 5,
     "metadata": {},
     "output_type": "execute_result"
    },
    {
     "data": {
      "image/png": "[encoded data removed]",
      "text/plain": [
       "<Figure size 432x288 with 1 Axes>"
      ]
     },
     "metadata": {},
     "output_type": "display_data"
    }
   ],
   "source": [
    "plt.hist(smith_data[\"Turn\"], bins=Bins, range=Range, density=True, rwidth=0.5)"
   ]
  },
  {
   "cell_type": "code",
   "execution_count": 6,
   "metadata": {},
   "outputs": [],
   "source": [
    "#smith_data34 = smith_data[smith_data[\"Hund\"].str.startswith(\"屋屋銅銅銅/\", \"屋銅銅銅銅/\")]\n",
    "#smith_data25 = smith_data[smith_data[\"Hund\"].str.startswith(\"銅銅銅銅銅/\", \"屋屋屋銅銅/\")]\n",
    "smith_data34 = smith_data[smith_data[\"Hund\"].str.contains(\"^(?:屋屋銅銅銅/|屋銅銅銅銅/)\")]\n",
    "smith_data25 = smith_data[smith_data[\"Hund\"].str.contains(\"^(?:屋屋屋銅銅/|銅銅銅銅銅/)\")]"
   ]
  },
  {
   "cell_type": "code",
   "execution_count": 7,
   "metadata": {},
   "outputs": [
    {
     "data": {
      "text/plain": [
       "(count    8290.000000\n",
       " mean       16.386490\n",
       " std         1.716402\n",
       " min        12.000000\n",
       " 25%        15.000000\n",
       " 50%        16.000000\n",
       " 75%        17.000000\n",
       " max        23.000000\n",
       " Name: Turn, dtype: float64, count    41710.000000\n",
       " mean        14.856317\n",
       " std          1.674714\n",
       " min         10.000000\n",
       " 25%         14.000000\n",
       " 50%         15.000000\n",
       " 75%         16.000000\n",
       " max         23.000000\n",
       " Name: Turn, dtype: float64)"
      ]
     },
     "execution_count": 7,
     "metadata": {},
     "output_type": "execute_result"
    }
   ],
   "source": [
    "smith_data34_des = smith_data34[\"Turn\"].describe()\n",
    "smith_data25_des = smith_data25[\"Turn\"].describe()\n",
    "\n",
    "smith_data25_des, smith_data34_des"
   ]
  },
  {
   "cell_type": "code",
   "execution_count": 8,
   "metadata": {},
   "outputs": [
    {
     "data": {
      "text/plain": [
       "([array([0.00000000e+00, 0.00000000e+00, 5.66948130e-03, 1.93003619e-02,\n",
       "         1.13992762e-01, 1.81664656e-01, 2.17490953e-01, 2.15560917e-01,\n",
       "         1.35826297e-01, 6.68275030e-02, 3.16043426e-02, 9.89143546e-03,\n",
       "         2.05066345e-03, 1.20627262e-04]),\n",
       "  array([8.15152242e-04, 1.58235435e-02, 4.43538720e-02, 1.56772956e-01,\n",
       "         2.12419084e-01, 2.30040758e-01, 1.85543035e-01, 9.20642532e-02,\n",
       "         4.12371134e-02, 1.63989451e-02, 3.69216015e-03, 6.23351714e-04,\n",
       "         1.91800527e-04, 2.39750659e-05])],\n",
       " array([ 9.5, 10.5, 11.5, 12.5, 13.5, 14.5, 15.5, 16.5, 17.5, 18.5, 19.5,\n",
       "        20.5, 21.5, 22.5, 23.5]),\n",
       " <a list of 2 Lists of Patches objects>)"
      ]
     },
     "execution_count": 8,
     "metadata": {},
     "output_type": "execute_result"
    },
    {
     "data": {
      "image/png": "[encoded data removed]",
      "text/plain": [
       "<Figure size 432x288 with 1 Axes>"
      ]
     },
     "metadata": {},
     "output_type": "display_data"
    }
   ],
   "source": [
    "plt.hist([smith_data25[\"Turn\"],smith_data34[\"Turn\"]],bins=Bins, range=Range, density=True, rwidth=0.5)"
   ]
  },
  {
   "cell_type": "code",
   "execution_count": 9,
   "metadata": {},
   "outputs": [],
   "source": [
    "smith_data_sizumi = smith_data[smith_data[\"Hund\"].str.find(\"鍛\") == 31]\n",
    "smith_data_sizumazu = smith_data[smith_data[\"Hund\"].str.find(\"鍛\") != 31]"
   ]
  },
  {
   "cell_type": "code",
   "execution_count": 10,
   "metadata": {},
   "outputs": [
    {
     "data": {
      "text/plain": [
       "(count    8288.000000\n",
       " mean       15.395994\n",
       " std         1.662640\n",
       " min        10.000000\n",
       " 25%        14.000000\n",
       " 50%        15.000000\n",
       " 75%        16.000000\n",
       " max        23.000000\n",
       " Name: Turn, dtype: float64, count    41712.000000\n",
       " mean        15.053198\n",
       " std          1.791504\n",
       " min         10.000000\n",
       " 25%         14.000000\n",
       " 50%         15.000000\n",
       " 75%         16.000000\n",
       " max         23.000000\n",
       " Name: Turn, dtype: float64)"
      ]
     },
     "execution_count": 10,
     "metadata": {},
     "output_type": "execute_result"
    }
   ],
   "source": [
    "smith_data_sizumi_des = smith_data_sizumi[\"Turn\"].describe()\n",
    "smith_data_sizumazu_des = smith_data_sizumazu[\"Turn\"].describe()\n",
    "\n",
    "smith_data_sizumi_des, smith_data_sizumazu_des"
   ]
  },
  {
   "cell_type": "code",
   "execution_count": 11,
   "metadata": {},
   "outputs": [
    {
     "data": {
      "text/plain": [
       "([array([2.41312741e-04, 1.20656371e-03, 3.00434363e-02, 8.75965251e-02,\n",
       "         1.84966216e-01, 2.46259653e-01, 2.00530888e-01, 1.42133205e-01,\n",
       "         7.32384170e-02, 2.40106178e-02, 7.36003861e-03, 2.05115830e-03,\n",
       "         2.41312741e-04, 1.20656371e-04]),\n",
       "  array([7.67165324e-04, 1.55830456e-02, 3.95090142e-02, 1.43196203e-01,\n",
       "         1.98312236e-01, 2.17203682e-01, 1.88914461e-01, 1.06659954e-01,\n",
       "         5.36775988e-02, 2.49088991e-02, 8.51074031e-03, 2.18162639e-03,\n",
       "         5.51400077e-04, 2.39739164e-05])],\n",
       " array([ 9.5, 10.5, 11.5, 12.5, 13.5, 14.5, 15.5, 16.5, 17.5, 18.5, 19.5,\n",
       "        20.5, 21.5, 22.5, 23.5]),\n",
       " <a list of 2 Lists of Patches objects>)"
      ]
     },
     "execution_count": 11,
     "metadata": {},
     "output_type": "execute_result"
    },
    {
     "data": {
      "image/png": "[encoded data removed]",
      "text/plain": [
       "<Figure size 432x288 with 1 Axes>"
      ]
     },
     "metadata": {},
     "output_type": "display_data"
    }
   ],
   "source": [
    "plt.hist([smith_data_sizumi[\"Turn\"],smith_data_sizumazu[\"Turn\"]], bins=Bins, range=Range, density=True, rwidth=0.5)"
   ]
  },
  {
   "cell_type": "code",
   "execution_count": 12,
   "metadata": {},
   "outputs": [],
   "source": [
    "smithTry = smith_data['Turn'].quantile([0,0.33,0.66,1]).tolist()\n",
    "try_cat = ['速','中','遅']\n",
    "smith_data['TurnLabel'] = pd.cut(smith_data['Turn'], smithTry, labels=try_cat, include_lowest=True, right=True)"
   ]
  },
  {
   "cell_type": "code",
   "execution_count": 13,
   "metadata": {
    "scrolled": true
   },
   "outputs": [
    {
     "name": "stdout",
     "output_type": "stream",
     "text": [
      "count    19095.000000\n",
      "mean         3.975858\n",
      "std          0.889103\n",
      "min          0.000000\n",
      "25%          3.000000\n",
      "50%          4.000000\n",
      "75%          5.000000\n",
      "max          6.000000\n",
      "Name: Hund, dtype: float64\n",
      "count    10262.000000\n",
      "mean         3.767979\n",
      "std          1.491115\n",
      "min          0.000000\n",
      "25%          3.000000\n",
      "50%          4.000000\n",
      "75%          5.000000\n",
      "max          7.000000\n",
      "Name: Hund, dtype: float64\n"
     ]
    }
   ],
   "source": [
    "smith_dataF = smith_data[smith_data[\"TurnLabel\"]==\"速\"]\n",
    "smith_dataM = smith_data[smith_data[\"TurnLabel\"]==\"中\"]\n",
    "smith_dataS = smith_data[smith_data[\"TurnLabel\"]==\"遅\"]\n",
    "\n",
    "print(smith_dataF[\"Hund\"].str.count(\"鍛\").describe())\n",
    "print(smith_dataS[\"Hund\"].str.count(\"鍛\").describe())"
   ]
  },
  {
   "cell_type": "code",
   "execution_count": 14,
   "metadata": {},
   "outputs": [
    {
     "data": {
      "text/html": [
       "<div>\n",
       "<style scoped>\n",
       "    .dataframe tbody tr th:only-of-type {\n",
       "        vertical-align: middle;\n",
       "    }\n",
       "\n",
       "    .dataframe tbody tr th {\n",
       "        vertical-align: top;\n",
       "    }\n",
       "\n",
       "    .dataframe thead th {\n",
       "        text-align: right;\n",
       "    }\n",
       "</style>\n",
       "<table border=\"1\" class=\"dataframe\">\n",
       "  <thead>\n",
       "    <tr style=\"text-align: right;\">\n",
       "      <th></th>\n",
       "      <th>Turn</th>\n",
       "      <th>Hund</th>\n",
       "      <th>AllMoney</th>\n",
       "      <th>Money</th>\n",
       "      <th>UselessMoney</th>\n",
       "      <th>Refresh</th>\n",
       "      <th>TurnLabel</th>\n",
       "    </tr>\n",
       "    <tr>\n",
       "      <th>ID</th>\n",
       "      <th></th>\n",
       "      <th></th>\n",
       "      <th></th>\n",
       "      <th></th>\n",
       "      <th></th>\n",
       "      <th></th>\n",
       "      <th></th>\n",
       "    </tr>\n",
       "  </thead>\n",
       "  <tbody>\n",
       "    <tr>\n",
       "      <th>10</th>\n",
       "      <td>11</td>\n",
       "      <td>屋屋銅銅銅/屋銅銅銅銅/銀銅銅銅銅/屋屋屋金銅銅銅鍛/銀銅銅銅銅/屋金銀銅銅銅銅鍛/屋金金銅...</td>\n",
       "      <td>9/9/12/15/18/18/18/20/23/23/23</td>\n",
       "      <td>3/4/6/6/6/9/8/4/6/9/8</td>\n",
       "      <td>0/0/0/0/0/1/0/1/0/1/0</td>\n",
       "      <td>0/0/1/2/2/3/3/4/4/5/5</td>\n",
       "      <td>速</td>\n",
       "    </tr>\n",
       "    <tr>\n",
       "      <th>26</th>\n",
       "      <td>11</td>\n",
       "      <td>屋屋銅銅銅/屋銅銅銅銅/屋銀銅銅銅銅銅鍛/屋屋銀銅銅/屋金銅銅銅銅銅鍛/屋金銀銅銅/屋金銅銅...</td>\n",
       "      <td>9/9/12/14/17/20/23/23/23/23/23</td>\n",
       "      <td>3/4/7/4/8/7/6/9/8/9/8</td>\n",
       "      <td>0/0/1/1/2/1/0/1/0/1/0</td>\n",
       "      <td>0/0/1/2/2/3/3/4/4/5/5</td>\n",
       "      <td>速</td>\n",
       "    </tr>\n",
       "    <tr>\n",
       "      <th>68</th>\n",
       "      <td>11</td>\n",
       "      <td>屋屋銅銅銅/屋銅銅銅銅/屋銀銅銅銅銅銅鍛/屋屋銅銅銅銅銅鍛/屋金銀銅銅/銀銀銅銅銅/屋屋金銅...</td>\n",
       "      <td>9/9/12/14/17/20/23/23/23/23/23</td>\n",
       "      <td>3/4/7/5/7/7/7/8/10/8/11</td>\n",
       "      <td>0/0/1/2/1/1/1/0/2/0/3</td>\n",
       "      <td>0/0/1/2/2/3/3/4/4/5/5</td>\n",
       "      <td>速</td>\n",
       "    </tr>\n",
       "    <tr>\n",
       "      <th>231</th>\n",
       "      <td>11</td>\n",
       "      <td>屋屋銅銅銅/屋銅銅銅銅/屋屋銅銅銅/屋銀銀銅銅銅銅鍛/屋屋銅銅銅/屋屋銀銅銅銅銅鍛/屋金銀銀...</td>\n",
       "      <td>9/9/11/14/16/19/19/19/21/21/21</td>\n",
       "      <td>3/4/3/8/3/6/8/8/5/9/8</td>\n",
       "      <td>0/0/0/2/0/0/0/0/2/1/0</td>\n",
       "      <td>0/0/1/2/2/3/3/4/4/5/5</td>\n",
       "      <td>速</td>\n",
       "    </tr>\n",
       "    <tr>\n",
       "      <th>238</th>\n",
       "      <td>11</td>\n",
       "      <td>屋銅銅銅銅/屋屋銅銅銅/屋銀銅銅銅銅銅鍛/屋屋銅銅銅/屋金銀銅銅銅銅鍛/金銀銀銅銅/屋屋金銅...</td>\n",
       "      <td>7/9/12/14/17/17/19/19/22/22/22</td>\n",
       "      <td>4/3/7/3/9/9/5/8/6/8/9</td>\n",
       "      <td>0/0/1/0/3/1/2/0/0/0/1</td>\n",
       "      <td>0/0/1/2/2/3/3/4/4/5/5</td>\n",
       "      <td>速</td>\n",
       "    </tr>\n",
       "  </tbody>\n",
       "</table>\n",
       "</div>"
      ],
      "text/plain": [
       "     Turn                                               Hund  \\\n",
       "ID                                                             \n",
       "10     11  屋屋銅銅銅/屋銅銅銅銅/銀銅銅銅銅/屋屋屋金銅銅銅鍛/銀銅銅銅銅/屋金銀銅銅銅銅鍛/屋金金銅...   \n",
       "26     11  屋屋銅銅銅/屋銅銅銅銅/屋銀銅銅銅銅銅鍛/屋屋銀銅銅/屋金銅銅銅銅銅鍛/屋金銀銅銅/屋金銅銅...   \n",
       "68     11  屋屋銅銅銅/屋銅銅銅銅/屋銀銅銅銅銅銅鍛/屋屋銅銅銅銅銅鍛/屋金銀銅銅/銀銀銅銅銅/屋屋金銅...   \n",
       "231    11  屋屋銅銅銅/屋銅銅銅銅/屋屋銅銅銅/屋銀銀銅銅銅銅鍛/屋屋銅銅銅/屋屋銀銅銅銅銅鍛/屋金銀銀...   \n",
       "238    11  屋銅銅銅銅/屋屋銅銅銅/屋銀銅銅銅銅銅鍛/屋屋銅銅銅/屋金銀銅銅銅銅鍛/金銀銀銅銅/屋屋金銅...   \n",
       "\n",
       "                           AllMoney                    Money  \\\n",
       "ID                                                             \n",
       "10   9/9/12/15/18/18/18/20/23/23/23    3/4/6/6/6/9/8/4/6/9/8   \n",
       "26   9/9/12/14/17/20/23/23/23/23/23    3/4/7/4/8/7/6/9/8/9/8   \n",
       "68   9/9/12/14/17/20/23/23/23/23/23  3/4/7/5/7/7/7/8/10/8/11   \n",
       "231  9/9/11/14/16/19/19/19/21/21/21    3/4/3/8/3/6/8/8/5/9/8   \n",
       "238  7/9/12/14/17/17/19/19/22/22/22    4/3/7/3/9/9/5/8/6/8/9   \n",
       "\n",
       "              UselessMoney                Refresh TurnLabel  \n",
       "ID                                                           \n",
       "10   0/0/0/0/0/1/0/1/0/1/0  0/0/1/2/2/3/3/4/4/5/5         速  \n",
       "26   0/0/1/1/2/1/0/1/0/1/0  0/0/1/2/2/3/3/4/4/5/5         速  \n",
       "68   0/0/1/2/1/1/1/0/2/0/3  0/0/1/2/2/3/3/4/4/5/5         速  \n",
       "231  0/0/0/2/0/0/0/0/2/1/0  0/0/1/2/2/3/3/4/4/5/5         速  \n",
       "238  0/0/1/0/3/1/2/0/0/0/1  0/0/1/2/2/3/3/4/4/5/5         速  "
      ]
     },
     "execution_count": 14,
     "metadata": {},
     "output_type": "execute_result"
    }
   ],
   "source": [
    "smith_data_haya = smith_data[smith_data[\"Turn\"] == 11]\n",
    "smith_data_haya.head(5)"
   ]
  },
  {
   "cell_type": "code",
   "execution_count": 15,
   "metadata": {},
   "outputs": [
    {
     "data": {
      "text/html": [
       "<div>\n",
       "<style scoped>\n",
       "    .dataframe tbody tr th:only-of-type {\n",
       "        vertical-align: middle;\n",
       "    }\n",
       "\n",
       "    .dataframe tbody tr th {\n",
       "        vertical-align: top;\n",
       "    }\n",
       "\n",
       "    .dataframe thead th {\n",
       "        text-align: right;\n",
       "    }\n",
       "</style>\n",
       "<table border=\"1\" class=\"dataframe\">\n",
       "  <thead>\n",
       "    <tr style=\"text-align: right;\">\n",
       "      <th></th>\n",
       "      <th>Turn</th>\n",
       "      <th>Hund</th>\n",
       "      <th>AllMoney</th>\n",
       "      <th>Money</th>\n",
       "      <th>UselessMoney</th>\n",
       "      <th>Refresh</th>\n",
       "      <th>TurnLabel</th>\n",
       "    </tr>\n",
       "    <tr>\n",
       "      <th>ID</th>\n",
       "      <th></th>\n",
       "      <th></th>\n",
       "      <th></th>\n",
       "      <th></th>\n",
       "      <th></th>\n",
       "      <th></th>\n",
       "      <th></th>\n",
       "    </tr>\n",
       "  </thead>\n",
       "  <tbody>\n",
       "    <tr>\n",
       "      <th>37</th>\n",
       "      <td>19</td>\n",
       "      <td>屋屋屋銅銅/銅銅銅銅銅/屋屋銅銅銅/屋銀銅銅銅/銀銅銅銅銅/屋屋銅銅銅/屋銀銀銅銅/屋銀銅銅...</td>\n",
       "      <td>7/9/11/13/16/18/21/23/26/26/26/28/31/34/37/40/...</td>\n",
       "      <td>2/5/3/5/6/3/6/5/7/9/10/5/7/7/6/7/6/11/8</td>\n",
       "      <td>2/2/0/2/0/0/0/2/1/1/2/2/1/1/0/1/0/3/0</td>\n",
       "      <td>0/0/1/1/2/2/3/3/3/4/4/4/5/5/5/5/6/6/6</td>\n",
       "      <td>遅</td>\n",
       "    </tr>\n",
       "    <tr>\n",
       "      <th>48</th>\n",
       "      <td>19</td>\n",
       "      <td>屋屋屋銅銅/銅銅銅銅銅/屋屋銅銅銅/屋銀銅銅銅/屋銀銅銅銅/屋銀銅銅銅/屋屋銀銅銅/銀銀銀銅...</td>\n",
       "      <td>7/9/11/13/15/17/17/20/22/24/27/30/30/33/33/35/...</td>\n",
       "      <td>2/5/3/5/5/5/4/8/5/5/10/7/10/6/9/5/7/12/8</td>\n",
       "      <td>2/2/0/2/2/2/0/2/2/2/4/1/2/0/1/2/1/4/0</td>\n",
       "      <td>0/0/1/1/2/2/3/3/3/4/4/4/5/5/5/6/6/6/6</td>\n",
       "      <td>遅</td>\n",
       "    </tr>\n",
       "    <tr>\n",
       "      <th>104</th>\n",
       "      <td>19</td>\n",
       "      <td>銅銅銅銅銅/屋屋屋銅銅/屋屋銅銅銅/屋銀銅銅銅/屋銀銀銅銅/屋屋銅銅銅/屋銀銀銅銅/屋屋金銅...</td>\n",
       "      <td>9/9/11/13/16/18/21/23/26/28/28/28/31/33/36/36/...</td>\n",
       "      <td>5/2/3/5/6/3/6/5/7/3/8/10/7/5/7/8/7/5/12</td>\n",
       "      <td>2/2/0/2/0/0/0/2/1/0/0/2/1/2/1/0/1/2/4</td>\n",
       "      <td>0/0/1/1/2/2/3/3/3/4/4/4/5/5/5/5/6/6/6</td>\n",
       "      <td>遅</td>\n",
       "    </tr>\n",
       "    <tr>\n",
       "      <th>123</th>\n",
       "      <td>19</td>\n",
       "      <td>屋屋銅銅銅/屋銅銅銅銅/屋屋銅銅銅/屋銀銅銅銅銅銅鍛/屋屋銀銅銅/金銀銅銅銅/屋屋銅銅銅/屋...</td>\n",
       "      <td>9/9/11/14/16/19/21/21/24/27/29/32/32/35/38/41/...</td>\n",
       "      <td>3/4/3/7/4/8/3/9/7/6/5/6/11/7/7/7/10/6/13</td>\n",
       "      <td>0/0/0/1/1/2/0/1/1/0/2/0/3/1/1/1/2/0/5</td>\n",
       "      <td>0/0/1/2/2/3/3/4/4/5/5/5/6/6/6/7/7/7/7</td>\n",
       "      <td>遅</td>\n",
       "    </tr>\n",
       "    <tr>\n",
       "      <th>139</th>\n",
       "      <td>19</td>\n",
       "      <td>屋銅銅銅銅/屋屋銅銅銅/屋屋銅銅銅/屋銀銅銅銅銅銅鍛/屋屋銀銅銅/屋銀銅銅銅/屋金銀銀銅銅銅...</td>\n",
       "      <td>7/9/11/14/16/18/21/23/23/23/26/28/28/30/32/35/...</td>\n",
       "      <td>4/3/3/7/4/5/10/3/11/8/7/5/11/5/5/7/5/7/10</td>\n",
       "      <td>0/0/0/1/1/2/4/0/3/0/1/2/3/2/2/1/2/1/2</td>\n",
       "      <td>0/0/1/2/2/3/3/4/4/5/5/5/6/6/6/7/7/7/7</td>\n",
       "      <td>遅</td>\n",
       "    </tr>\n",
       "  </tbody>\n",
       "</table>\n",
       "</div>"
      ],
      "text/plain": [
       "     Turn                                               Hund  \\\n",
       "ID                                                             \n",
       "37     19  屋屋屋銅銅/銅銅銅銅銅/屋屋銅銅銅/屋銀銅銅銅/銀銅銅銅銅/屋屋銅銅銅/屋銀銀銅銅/屋銀銅銅...   \n",
       "48     19  屋屋屋銅銅/銅銅銅銅銅/屋屋銅銅銅/屋銀銅銅銅/屋銀銅銅銅/屋銀銅銅銅/屋屋銀銅銅/銀銀銀銅...   \n",
       "104    19  銅銅銅銅銅/屋屋屋銅銅/屋屋銅銅銅/屋銀銅銅銅/屋銀銀銅銅/屋屋銅銅銅/屋銀銀銅銅/屋屋金銅...   \n",
       "123    19  屋屋銅銅銅/屋銅銅銅銅/屋屋銅銅銅/屋銀銅銅銅銅銅鍛/屋屋銀銅銅/金銀銅銅銅/屋屋銅銅銅/屋...   \n",
       "139    19  屋銅銅銅銅/屋屋銅銅銅/屋屋銅銅銅/屋銀銅銅銅銅銅鍛/屋屋銀銅銅/屋銀銅銅銅/屋金銀銀銅銅銅...   \n",
       "\n",
       "                                              AllMoney  \\\n",
       "ID                                                       \n",
       "37   7/9/11/13/16/18/21/23/26/26/26/28/31/34/37/40/...   \n",
       "48   7/9/11/13/15/17/17/20/22/24/27/30/30/33/33/35/...   \n",
       "104  9/9/11/13/16/18/21/23/26/28/28/28/31/33/36/36/...   \n",
       "123  9/9/11/14/16/19/21/21/24/27/29/32/32/35/38/41/...   \n",
       "139  7/9/11/14/16/18/21/23/23/23/26/28/28/30/32/35/...   \n",
       "\n",
       "                                         Money  \\\n",
       "ID                                               \n",
       "37     2/5/3/5/6/3/6/5/7/9/10/5/7/7/6/7/6/11/8   \n",
       "48    2/5/3/5/5/5/4/8/5/5/10/7/10/6/9/5/7/12/8   \n",
       "104    5/2/3/5/6/3/6/5/7/3/8/10/7/5/7/8/7/5/12   \n",
       "123   3/4/3/7/4/8/3/9/7/6/5/6/11/7/7/7/10/6/13   \n",
       "139  4/3/3/7/4/5/10/3/11/8/7/5/11/5/5/7/5/7/10   \n",
       "\n",
       "                              UselessMoney  \\\n",
       "ID                                           \n",
       "37   2/2/0/2/0/0/0/2/1/1/2/2/1/1/0/1/0/3/0   \n",
       "48   2/2/0/2/2/2/0/2/2/2/4/1/2/0/1/2/1/4/0   \n",
       "104  2/2/0/2/0/0/0/2/1/0/0/2/1/2/1/0/1/2/4   \n",
       "123  0/0/0/1/1/2/0/1/1/0/2/0/3/1/1/1/2/0/5   \n",
       "139  0/0/0/1/1/2/4/0/3/0/1/2/3/2/2/1/2/1/2   \n",
       "\n",
       "                                   Refresh TurnLabel  \n",
       "ID                                                    \n",
       "37   0/0/1/1/2/2/3/3/3/4/4/4/5/5/5/5/6/6/6         遅  \n",
       "48   0/0/1/1/2/2/3/3/3/4/4/4/5/5/5/6/6/6/6         遅  \n",
       "104  0/0/1/1/2/2/3/3/3/4/4/4/5/5/5/5/6/6/6         遅  \n",
       "123  0/0/1/2/2/3/3/4/4/5/5/5/6/6/6/7/7/7/7         遅  \n",
       "139  0/0/1/2/2/3/3/4/4/5/5/5/6/6/6/7/7/7/7         遅  "
      ]
     },
     "execution_count": 15,
     "metadata": {},
     "output_type": "execute_result"
    }
   ],
   "source": [
    "smith_data_oso = smith_data[smith_data[\"Turn\"] == 19]\n",
    "smith_data_oso.head(5)"
   ]
  },
  {
   "cell_type": "code",
   "execution_count": 16,
   "metadata": {
    "scrolled": true
   },
   "outputs": [
    {
     "data": {
      "text/html": [
       "<div>\n",
       "<style scoped>\n",
       "    .dataframe tbody tr th:only-of-type {\n",
       "        vertical-align: middle;\n",
       "    }\n",
       "\n",
       "    .dataframe tbody tr th {\n",
       "        vertical-align: top;\n",
       "    }\n",
       "\n",
       "    .dataframe thead th {\n",
       "        text-align: right;\n",
       "    }\n",
       "</style>\n",
       "<table border=\"1\" class=\"dataframe\">\n",
       "  <thead>\n",
       "    <tr style=\"text-align: right;\">\n",
       "      <th></th>\n",
       "      <th>Turn</th>\n",
       "      <th>Hund</th>\n",
       "      <th>AllMoney</th>\n",
       "      <th>Money</th>\n",
       "      <th>UselessMoney</th>\n",
       "      <th>Refresh</th>\n",
       "    </tr>\n",
       "    <tr>\n",
       "      <th>ID</th>\n",
       "      <th></th>\n",
       "      <th></th>\n",
       "      <th></th>\n",
       "      <th></th>\n",
       "      <th></th>\n",
       "      <th></th>\n",
       "    </tr>\n",
       "  </thead>\n",
       "  <tbody>\n",
       "  </tbody>\n",
       "</table>\n",
       "</div>"
      ],
      "text/plain": [
       "Empty DataFrame\n",
       "Columns: [Turn, Hund, AllMoney, Money, UselessMoney, Refresh]\n",
       "Index: []"
      ]
     },
     "execution_count": 16,
     "metadata": {},
     "output_type": "execute_result"
    }
   ],
   "source": [
    "smith_data25_haya = smith_data25[smith_data25[\"Turn\"] == 11]\n",
    "smith_data25_haya.head(5)"
   ]
  },
  {
   "cell_type": "code",
   "execution_count": 17,
   "metadata": {},
   "outputs": [
    {
     "data": {
      "text/html": [
       "<div>\n",
       "<style scoped>\n",
       "    .dataframe tbody tr th:only-of-type {\n",
       "        vertical-align: middle;\n",
       "    }\n",
       "\n",
       "    .dataframe tbody tr th {\n",
       "        vertical-align: top;\n",
       "    }\n",
       "\n",
       "    .dataframe thead th {\n",
       "        text-align: right;\n",
       "    }\n",
       "</style>\n",
       "<table border=\"1\" class=\"dataframe\">\n",
       "  <thead>\n",
       "    <tr style=\"text-align: right;\">\n",
       "      <th></th>\n",
       "      <th>Turn</th>\n",
       "      <th>Hund</th>\n",
       "      <th>AllMoney</th>\n",
       "      <th>Money</th>\n",
       "      <th>UselessMoney</th>\n",
       "      <th>Refresh</th>\n",
       "    </tr>\n",
       "    <tr>\n",
       "      <th>ID</th>\n",
       "      <th></th>\n",
       "      <th></th>\n",
       "      <th></th>\n",
       "      <th></th>\n",
       "      <th></th>\n",
       "      <th></th>\n",
       "    </tr>\n",
       "  </thead>\n",
       "  <tbody>\n",
       "    <tr>\n",
       "      <th>123</th>\n",
       "      <td>19</td>\n",
       "      <td>屋屋銅銅銅/屋銅銅銅銅/屋屋銅銅銅/屋銀銅銅銅銅銅鍛/屋屋銀銅銅/金銀銅銅銅/屋屋銅銅銅/屋...</td>\n",
       "      <td>9/9/11/14/16/19/21/21/24/27/29/32/32/35/38/41/...</td>\n",
       "      <td>3/4/3/7/4/8/3/9/7/6/5/6/11/7/7/7/10/6/13</td>\n",
       "      <td>0/0/0/1/1/2/0/1/1/0/2/0/3/1/1/1/2/0/5</td>\n",
       "      <td>0/0/1/2/2/3/3/4/4/5/5/5/6/6/6/7/7/7/7</td>\n",
       "    </tr>\n",
       "    <tr>\n",
       "      <th>139</th>\n",
       "      <td>19</td>\n",
       "      <td>屋銅銅銅銅/屋屋銅銅銅/屋屋銅銅銅/屋銀銅銅銅銅銅鍛/屋屋銀銅銅/屋銀銅銅銅/屋金銀銀銅銅銅...</td>\n",
       "      <td>7/9/11/14/16/18/21/23/23/23/26/28/28/30/32/35/...</td>\n",
       "      <td>4/3/3/7/4/5/10/3/11/8/7/5/11/5/5/7/5/7/10</td>\n",
       "      <td>0/0/0/1/1/2/4/0/3/0/1/2/3/2/2/1/2/1/2</td>\n",
       "      <td>0/0/1/2/2/3/3/4/4/5/5/5/6/6/6/7/7/7/7</td>\n",
       "    </tr>\n",
       "    <tr>\n",
       "      <th>142</th>\n",
       "      <td>19</td>\n",
       "      <td>屋屋銅銅銅/屋銅銅銅銅/屋屋銅銅銅銅銅鍛/屋銀銅銅銅/屋屋銀銅銅銅銅鍛/屋金銀銅銅銅銅鍛/屋...</td>\n",
       "      <td>9/9/11/13/16/19/21/24/27/27/30/30/33/36/36/39/...</td>\n",
       "      <td>3/4/5/5/6/9/5/6/7/9/7/8/7/7/11/6/6/6/11</td>\n",
       "      <td>0/0/2/2/0/3/2/0/1/1/1/0/1/1/3/0/0/0/3</td>\n",
       "      <td>0/0/1/2/2/3/3/4/4/5/5/5/6/6/6/7/7/7/7</td>\n",
       "    </tr>\n",
       "    <tr>\n",
       "      <th>223</th>\n",
       "      <td>19</td>\n",
       "      <td>屋銅銅銅銅/屋屋銅銅銅/屋銅銅銅銅/屋屋銅銅銅/屋銀銅銅銅銅銅鍛/屋屋銀銅銅/屋銀銀銀銅銅銅...</td>\n",
       "      <td>7/9/11/13/16/18/21/23/23/23/25/27/30/30/33/36/...</td>\n",
       "      <td>4/3/4/3/7/4/9/4/9/9/5/4/7/10/7/7/7/7/8</td>\n",
       "      <td>0/0/1/0/1/1/3/1/1/1/2/1/1/2/1/1/1/1/0</td>\n",
       "      <td>0/0/1/1/2/2/3/3/4/4/4/5/5/5/6/6/6/6/7</td>\n",
       "    </tr>\n",
       "    <tr>\n",
       "      <th>225</th>\n",
       "      <td>19</td>\n",
       "      <td>屋銅銅銅銅/屋屋銅銅銅/屋屋銀銅銅銅銅鍛/屋銅銅銅銅/屋屋金銀銅銅銅鍛/屋金金銀銅銅銅鍛/屋...</td>\n",
       "      <td>7/9/12/14/17/17/19/21/23/23/25/28/31/34/34/37/...</td>\n",
       "      <td>4/3/6/4/8/11/5/3/5/11/5/6/6/7/8/7/6/7/10</td>\n",
       "      <td>0/0/0/1/2/3/2/0/2/3/2/0/0/1/0/1/0/1/2</td>\n",
       "      <td>0/0/1/2/2/3/3/4/4/5/5/5/6/6/6/7/7/7/7</td>\n",
       "    </tr>\n",
       "  </tbody>\n",
       "</table>\n",
       "</div>"
      ],
      "text/plain": [
       "     Turn                                               Hund  \\\n",
       "ID                                                             \n",
       "123    19  屋屋銅銅銅/屋銅銅銅銅/屋屋銅銅銅/屋銀銅銅銅銅銅鍛/屋屋銀銅銅/金銀銅銅銅/屋屋銅銅銅/屋...   \n",
       "139    19  屋銅銅銅銅/屋屋銅銅銅/屋屋銅銅銅/屋銀銅銅銅銅銅鍛/屋屋銀銅銅/屋銀銅銅銅/屋金銀銀銅銅銅...   \n",
       "142    19  屋屋銅銅銅/屋銅銅銅銅/屋屋銅銅銅銅銅鍛/屋銀銅銅銅/屋屋銀銅銅銅銅鍛/屋金銀銅銅銅銅鍛/屋...   \n",
       "223    19  屋銅銅銅銅/屋屋銅銅銅/屋銅銅銅銅/屋屋銅銅銅/屋銀銅銅銅銅銅鍛/屋屋銀銅銅/屋銀銀銀銅銅銅...   \n",
       "225    19  屋銅銅銅銅/屋屋銅銅銅/屋屋銀銅銅銅銅鍛/屋銅銅銅銅/屋屋金銀銅銅銅鍛/屋金金銀銅銅銅鍛/屋...   \n",
       "\n",
       "                                              AllMoney  \\\n",
       "ID                                                       \n",
       "123  9/9/11/14/16/19/21/21/24/27/29/32/32/35/38/41/...   \n",
       "139  7/9/11/14/16/18/21/23/23/23/26/28/28/30/32/35/...   \n",
       "142  9/9/11/13/16/19/21/24/27/27/30/30/33/36/36/39/...   \n",
       "223  7/9/11/13/16/18/21/23/23/23/25/27/30/30/33/36/...   \n",
       "225  7/9/12/14/17/17/19/21/23/23/25/28/31/34/34/37/...   \n",
       "\n",
       "                                         Money  \\\n",
       "ID                                               \n",
       "123   3/4/3/7/4/8/3/9/7/6/5/6/11/7/7/7/10/6/13   \n",
       "139  4/3/3/7/4/5/10/3/11/8/7/5/11/5/5/7/5/7/10   \n",
       "142    3/4/5/5/6/9/5/6/7/9/7/8/7/7/11/6/6/6/11   \n",
       "223     4/3/4/3/7/4/9/4/9/9/5/4/7/10/7/7/7/7/8   \n",
       "225   4/3/6/4/8/11/5/3/5/11/5/6/6/7/8/7/6/7/10   \n",
       "\n",
       "                              UselessMoney  \\\n",
       "ID                                           \n",
       "123  0/0/0/1/1/2/0/1/1/0/2/0/3/1/1/1/2/0/5   \n",
       "139  0/0/0/1/1/2/4/0/3/0/1/2/3/2/2/1/2/1/2   \n",
       "142  0/0/2/2/0/3/2/0/1/1/1/0/1/1/3/0/0/0/3   \n",
       "223  0/0/1/0/1/1/3/1/1/1/2/1/1/2/1/1/1/1/0   \n",
       "225  0/0/0/1/2/3/2/0/2/3/2/0/0/1/0/1/0/1/2   \n",
       "\n",
       "                                   Refresh  \n",
       "ID                                          \n",
       "123  0/0/1/2/2/3/3/4/4/5/5/5/6/6/6/7/7/7/7  \n",
       "139  0/0/1/2/2/3/3/4/4/5/5/5/6/6/6/7/7/7/7  \n",
       "142  0/0/1/2/2/3/3/4/4/5/5/5/6/6/6/7/7/7/7  \n",
       "223  0/0/1/1/2/2/3/3/4/4/4/5/5/5/6/6/6/6/7  \n",
       "225  0/0/1/2/2/3/3/4/4/5/5/5/6/6/6/7/7/7/7  "
      ]
     },
     "execution_count": 17,
     "metadata": {},
     "output_type": "execute_result"
    }
   ],
   "source": [
    "smith_data34_oso = smith_data34[smith_data34[\"Turn\"] == 19]\n",
    "smith_data34_oso.head(5)"
   ]
  },
  {
   "cell_type": "code",
   "execution_count": 18,
   "metadata": {},
   "outputs": [
    {
     "data": {
      "text/html": [
       "<div>\n",
       "<style scoped>\n",
       "    .dataframe tbody tr th:only-of-type {\n",
       "        vertical-align: middle;\n",
       "    }\n",
       "\n",
       "    .dataframe tbody tr th {\n",
       "        vertical-align: top;\n",
       "    }\n",
       "\n",
       "    .dataframe thead th {\n",
       "        text-align: right;\n",
       "    }\n",
       "</style>\n",
       "<table border=\"1\" class=\"dataframe\">\n",
       "  <thead>\n",
       "    <tr style=\"text-align: right;\">\n",
       "      <th></th>\n",
       "      <th>Turn</th>\n",
       "      <th>Hund</th>\n",
       "      <th>Money</th>\n",
       "      <th>UselessMoney</th>\n",
       "      <th>Refresh</th>\n",
       "    </tr>\n",
       "  </thead>\n",
       "  <tbody>\n",
       "    <tr>\n",
       "      <th>0</th>\n",
       "      <td>16</td>\n",
       "      <td>屋屋屋銅銅/銅銅銅銅銅/屋銅銅銅銅/屋屋銅銅銅/屋銀銀銅銅銅銅鍛/屋屋銅銅銅/屋銀銀銅銅/屋...</td>\n",
       "      <td>2/5/4/3/8/3/6/5/10/8/6/9/5/7/7/8</td>\n",
       "      <td>2/2/0/0/2/0/0/2/2/0/0/1/2/1/1/0</td>\n",
       "      <td>0/0/1/1/2/2/3/3/4/4/5/5/5/6/6/6</td>\n",
       "    </tr>\n",
       "    <tr>\n",
       "      <th>1</th>\n",
       "      <td>17</td>\n",
       "      <td>屋屋屋銅銅/銅銅銅銅銅/屋屋銅銅銅/屋銅銅銅銅/屋銀銅銅銅/屋屋銅銅銅/屋銀銀銅銅銅銅鍛/屋...</td>\n",
       "      <td>2/5/3/4/5/3/8/5/7/7/7/10/7/9/10/7/9</td>\n",
       "      <td>2/2/0/0/2/0/2/2/1/1/1/2/1/1/2/1/1</td>\n",
       "      <td>0/0/1/1/2/2/3/3/4/4/5/5/5/6/6/6/7</td>\n",
       "    </tr>\n",
       "    <tr>\n",
       "      <th>2</th>\n",
       "      <td>17</td>\n",
       "      <td>屋屋屋銅銅/銅銅銅銅銅/屋屋銅銅銅/屋銅銅銅銅/屋屋銀銅銅/屋銅銅銅銅/銀銀銀銅銅銅銅鍛/屋...</td>\n",
       "      <td>2/5/3/4/4/4/10/2/7/8/6/8/7/5/7/8/9</td>\n",
       "      <td>2/2/0/0/1/1/4/2/1/0/0/0/1/2/1/0/1</td>\n",
       "      <td>0/0/1/1/2/2/3/3/4/4/5/5/5/6/6/6/7</td>\n",
       "    </tr>\n",
       "    <tr>\n",
       "      <th>3</th>\n",
       "      <td>18</td>\n",
       "      <td>屋屋屋銅銅/銅銅銅銅銅/屋屋屋銅銅/銅銅銅銅銅/屋銀銅銅銅/屋銅銅銅銅/屋屋屋銀銅銅銅鍛/銀...</td>\n",
       "      <td>2/5/2/5/5/4/5/6/6/7/6/6/12/7/9/6/8/12</td>\n",
       "      <td>2/2/2/1/2/1/2/0/0/1/0/0/4/1/1/0/0/4</td>\n",
       "      <td>0/0/1/1/2/2/3/3/4/4/5/5/5/6/6/6/6/7</td>\n",
       "    </tr>\n",
       "    <tr>\n",
       "      <th>4</th>\n",
       "      <td>15</td>\n",
       "      <td>屋屋屋銅銅/銅銅銅銅銅/屋屋銅銅銅/屋銅銅銅銅/屋銀銅銅銅/銀銅銅銅銅/屋屋屋金銅銅銅鍛/銀...</td>\n",
       "      <td>2/5/3/4/5/6/6/6/8/6/8/5/10/3/9</td>\n",
       "      <td>2/2/0/0/2/0/0/0/0/0/0/2/2/0/1</td>\n",
       "      <td>0/0/1/1/2/2/3/3/4/4/5/5/5/6/6</td>\n",
       "    </tr>\n",
       "  </tbody>\n",
       "</table>\n",
       "</div>"
      ],
      "text/plain": [
       "   Turn                                               Hund  \\\n",
       "0    16  屋屋屋銅銅/銅銅銅銅銅/屋銅銅銅銅/屋屋銅銅銅/屋銀銀銅銅銅銅鍛/屋屋銅銅銅/屋銀銀銅銅/屋...   \n",
       "1    17  屋屋屋銅銅/銅銅銅銅銅/屋屋銅銅銅/屋銅銅銅銅/屋銀銅銅銅/屋屋銅銅銅/屋銀銀銅銅銅銅鍛/屋...   \n",
       "2    17  屋屋屋銅銅/銅銅銅銅銅/屋屋銅銅銅/屋銅銅銅銅/屋屋銀銅銅/屋銅銅銅銅/銀銀銀銅銅銅銅鍛/屋...   \n",
       "3    18  屋屋屋銅銅/銅銅銅銅銅/屋屋屋銅銅/銅銅銅銅銅/屋銀銅銅銅/屋銅銅銅銅/屋屋屋銀銅銅銅鍛/銀...   \n",
       "4    15  屋屋屋銅銅/銅銅銅銅銅/屋屋銅銅銅/屋銅銅銅銅/屋銀銅銅銅/銀銅銅銅銅/屋屋屋金銅銅銅鍛/銀...   \n",
       "\n",
       "                                   Money                         UselessMoney  \\\n",
       "0       2/5/4/3/8/3/6/5/10/8/6/9/5/7/7/8      2/2/0/0/2/0/0/2/2/0/0/1/2/1/1/0   \n",
       "1    2/5/3/4/5/3/8/5/7/7/7/10/7/9/10/7/9    2/2/0/0/2/0/2/2/1/1/1/2/1/1/2/1/1   \n",
       "2     2/5/3/4/4/4/10/2/7/8/6/8/7/5/7/8/9    2/2/0/0/1/1/4/2/1/0/0/0/1/2/1/0/1   \n",
       "3  2/5/2/5/5/4/5/6/6/7/6/6/12/7/9/6/8/12  2/2/2/1/2/1/2/0/0/1/0/0/4/1/1/0/0/4   \n",
       "4         2/5/3/4/5/6/6/6/8/6/8/5/10/3/9        2/2/0/0/2/0/0/0/0/0/0/2/2/0/1   \n",
       "\n",
       "                               Refresh  \n",
       "0      0/0/1/1/2/2/3/3/4/4/5/5/5/6/6/6  \n",
       "1    0/0/1/1/2/2/3/3/4/4/5/5/5/6/6/6/7  \n",
       "2    0/0/1/1/2/2/3/3/4/4/5/5/5/6/6/6/7  \n",
       "3  0/0/1/1/2/2/3/3/4/4/5/5/5/6/6/6/6/7  \n",
       "4        0/0/1/1/2/2/3/3/4/4/5/5/5/6/6  "
      ]
     },
     "execution_count": 18,
     "metadata": {},
     "output_type": "execute_result"
    }
   ],
   "source": [
    "smith25_Silver_data = pd.read_csv('./TestProgramSmith25_Silver.csv', header=0, index_col=0)\n",
    "smith25_Silver_data.head()"
   ]
  },
  {
   "cell_type": "code",
   "execution_count": 19,
   "metadata": {},
   "outputs": [
    {
     "data": {
      "text/html": [
       "<div>\n",
       "<style scoped>\n",
       "    .dataframe tbody tr th:only-of-type {\n",
       "        vertical-align: middle;\n",
       "    }\n",
       "\n",
       "    .dataframe tbody tr th {\n",
       "        vertical-align: top;\n",
       "    }\n",
       "\n",
       "    .dataframe thead th {\n",
       "        text-align: right;\n",
       "    }\n",
       "</style>\n",
       "<table border=\"1\" class=\"dataframe\">\n",
       "  <thead>\n",
       "    <tr style=\"text-align: right;\">\n",
       "      <th></th>\n",
       "      <th>Turn</th>\n",
       "      <th>Hund</th>\n",
       "      <th>Money</th>\n",
       "      <th>UselessMoney</th>\n",
       "      <th>Refresh</th>\n",
       "    </tr>\n",
       "  </thead>\n",
       "  <tbody>\n",
       "    <tr>\n",
       "      <th>0</th>\n",
       "      <td>20</td>\n",
       "      <td>屋屋屋銅銅/銅銅銅銅銅/屋銅銅銅銅/屋屋銅銅銅/銀銀銀銅銅/屋屋屋銅銅/金銅銅銅銅/屋屋銀銀...</td>\n",
       "      <td>2/5/4/3/8/2/7/5/6/9/4/4/6/8/10/6/4/6/7/8</td>\n",
       "      <td>2/1/1/0/2/2/1/2/0/1/1/1/0/0/2/0/1/0/1/0</td>\n",
       "      <td>0/0/1/1/2/2/3/3/4/4/4/5/5/5/6/6/6/6/7/7</td>\n",
       "    </tr>\n",
       "    <tr>\n",
       "      <th>1</th>\n",
       "      <td>20</td>\n",
       "      <td>屋屋屋銅銅/銅銅銅銅銅/屋屋銅銅銅/屋銅銅銅銅/屋銀銅銅銅/屋銀銀銅銅/屋銅銅銅銅/銀銀銀銅...</td>\n",
       "      <td>2/5/3/4/5/6/4/8/6/6/3/10/10/8/5/7/7/5/6/11</td>\n",
       "      <td>2/1/0/1/2/0/1/2/0/0/0/2/2/0/2/1/1/2/0/3</td>\n",
       "      <td>0/0/1/1/2/2/3/3/3/4/4/4/5/5/5/5/6/6/6/6</td>\n",
       "    </tr>\n",
       "    <tr>\n",
       "      <th>2</th>\n",
       "      <td>17</td>\n",
       "      <td>屋屋屋銅銅/銅銅銅銅銅/屋屋銅銅銅/屋銅銅銅銅/屋銀銀銅銅/屋屋銅銅銅/屋銀銅銅銅/屋金銀銅...</td>\n",
       "      <td>2/5/3/4/6/3/5/7/6/7/5/10/7/6/9/8/8</td>\n",
       "      <td>2/1/0/1/0/0/2/1/0/1/2/2/1/0/1/0/0</td>\n",
       "      <td>0/0/1/1/2/2/3/3/3/4/4/4/5/5/5/5/6</td>\n",
       "    </tr>\n",
       "    <tr>\n",
       "      <th>3</th>\n",
       "      <td>16</td>\n",
       "      <td>屋屋屋銅銅/銅銅銅銅銅/屋屋銅銅銅/屋銅銅銅銅/屋銀銀銅銅/屋銅銅銅銅/屋屋銀銅銅/金銅銅銅...</td>\n",
       "      <td>2/5/3/4/6/4/4/7/7/7/8/8/7/3/8/8</td>\n",
       "      <td>2/1/0/1/0/1/1/1/1/1/0/0/1/0/0/0</td>\n",
       "      <td>0/0/1/1/2/2/3/3/3/4/4/4/5/5/5/5</td>\n",
       "    </tr>\n",
       "    <tr>\n",
       "      <th>4</th>\n",
       "      <td>16</td>\n",
       "      <td>屋屋屋銅銅/銅銅銅銅銅/屋屋銅銅銅/屋銅銅銅銅/屋銀銀銅銅/屋屋銅銅銅/銀銀銅銅銅/屋屋屋金...</td>\n",
       "      <td>2/5/3/4/6/3/7/4/7/6/8/10/4/6/9/8</td>\n",
       "      <td>2/1/0/1/0/0/1/1/1/0/0/2/1/0/1/0</td>\n",
       "      <td>0/0/1/1/2/2/3/3/3/4/4/4/5/5/5/5</td>\n",
       "    </tr>\n",
       "  </tbody>\n",
       "</table>\n",
       "</div>"
      ],
      "text/plain": [
       "   Turn                                               Hund  \\\n",
       "0    20  屋屋屋銅銅/銅銅銅銅銅/屋銅銅銅銅/屋屋銅銅銅/銀銀銀銅銅/屋屋屋銅銅/金銅銅銅銅/屋屋銀銀...   \n",
       "1    20  屋屋屋銅銅/銅銅銅銅銅/屋屋銅銅銅/屋銅銅銅銅/屋銀銅銅銅/屋銀銀銅銅/屋銅銅銅銅/銀銀銀銅...   \n",
       "2    17  屋屋屋銅銅/銅銅銅銅銅/屋屋銅銅銅/屋銅銅銅銅/屋銀銀銅銅/屋屋銅銅銅/屋銀銅銅銅/屋金銀銅...   \n",
       "3    16  屋屋屋銅銅/銅銅銅銅銅/屋屋銅銅銅/屋銅銅銅銅/屋銀銀銅銅/屋銅銅銅銅/屋屋銀銅銅/金銅銅銅...   \n",
       "4    16  屋屋屋銅銅/銅銅銅銅銅/屋屋銅銅銅/屋銅銅銅銅/屋銀銀銅銅/屋屋銅銅銅/銀銀銅銅銅/屋屋屋金...   \n",
       "\n",
       "                                        Money  \\\n",
       "0    2/5/4/3/8/2/7/5/6/9/4/4/6/8/10/6/4/6/7/8   \n",
       "1  2/5/3/4/5/6/4/8/6/6/3/10/10/8/5/7/7/5/6/11   \n",
       "2          2/5/3/4/6/3/5/7/6/7/5/10/7/6/9/8/8   \n",
       "3             2/5/3/4/6/4/4/7/7/7/8/8/7/3/8/8   \n",
       "4            2/5/3/4/6/3/7/4/7/6/8/10/4/6/9/8   \n",
       "\n",
       "                              UselessMoney  \\\n",
       "0  2/1/1/0/2/2/1/2/0/1/1/1/0/0/2/0/1/0/1/0   \n",
       "1  2/1/0/1/2/0/1/2/0/0/0/2/2/0/2/1/1/2/0/3   \n",
       "2        2/1/0/1/0/0/2/1/0/1/2/2/1/0/1/0/0   \n",
       "3          2/1/0/1/0/1/1/1/1/1/0/0/1/0/0/0   \n",
       "4          2/1/0/1/0/0/1/1/1/0/0/2/1/0/1/0   \n",
       "\n",
       "                                   Refresh  \n",
       "0  0/0/1/1/2/2/3/3/4/4/4/5/5/5/6/6/6/6/7/7  \n",
       "1  0/0/1/1/2/2/3/3/3/4/4/4/5/5/5/5/6/6/6/6  \n",
       "2        0/0/1/1/2/2/3/3/3/4/4/4/5/5/5/5/6  \n",
       "3          0/0/1/1/2/2/3/3/3/4/4/4/5/5/5/5  \n",
       "4          0/0/1/1/2/2/3/3/3/4/4/4/5/5/5/5  "
      ]
     },
     "execution_count": 19,
     "metadata": {},
     "output_type": "execute_result"
    }
   ],
   "source": [
    "smith25_Smith_data = pd.read_csv('./TestProgramSmith25_Smith.csv', header=0, index_col=0)\n",
    "smith25_Smith_data.head()"
   ]
  },
  {
   "cell_type": "code",
   "execution_count": 20,
   "metadata": {
    "scrolled": true
   },
   "outputs": [
    {
     "data": {
      "text/plain": [
       "(count    50000.000000\n",
       " mean        17.872240\n",
       " std          1.741304\n",
       " min         11.000000\n",
       " 25%         17.000000\n",
       " 50%         18.000000\n",
       " 75%         19.000000\n",
       " max         25.000000\n",
       " Name: Turn, dtype: float64, count    50000.00000\n",
       " mean        16.23376\n",
       " std          1.63278\n",
       " min         12.00000\n",
       " 25%         15.00000\n",
       " 50%         16.00000\n",
       " 75%         17.00000\n",
       " max         24.00000\n",
       " Name: Turn, dtype: float64)"
      ]
     },
     "execution_count": 20,
     "metadata": {},
     "output_type": "execute_result"
    }
   ],
   "source": [
    "smith25_Smith_data_des = smith25_Smith_data[\"Turn\"].describe()\n",
    "smith25_Silver_data_des = smith25_Silver_data[\"Turn\"].describe()\n",
    "\n",
    "smith25_Smith_data_des, smith25_Silver_data_des"
   ]
  },
  {
   "cell_type": "code",
   "execution_count": 21,
   "metadata": {},
   "outputs": [
    {
     "data": {
      "text/plain": [
       "([array([4.0000e-05, 8.0000e-05, 1.4400e-03, 2.0140e-02, 6.2400e-02,\n",
       "         1.2410e-01, 2.2538e-01, 2.1450e-01, 1.7344e-01, 1.0956e-01,\n",
       "         5.2660e-02, 1.1380e-02, 3.9800e-03, 7.2000e-04, 1.8000e-04]),\n",
       "  array([0.0000e+00, 3.8400e-03, 2.2600e-02, 1.1578e-01, 2.0674e-01,\n",
       "         2.2916e-01, 2.1692e-01, 1.1798e-01, 5.5540e-02, 2.3200e-02,\n",
       "         6.9400e-03, 9.8000e-04, 2.2000e-04, 1.0000e-04, 0.0000e+00])],\n",
       " array([10.5, 11.5, 12.5, 13.5, 14.5, 15.5, 16.5, 17.5, 18.5, 19.5, 20.5,\n",
       "        21.5, 22.5, 23.5, 24.5, 25.5]),\n",
       " <a list of 2 Lists of Patches objects>)"
      ]
     },
     "execution_count": 21,
     "metadata": {},
     "output_type": "execute_result"
    },
    {
     "data": {
      "image/png": "[encoded data removed]",
      "text/plain": [
       "<Figure size 432x288 with 1 Axes>"
      ]
     },
     "metadata": {},
     "output_type": "display_data"
    }
   ],
   "source": [
    "plt.hist([smith25_Smith_data[\"Turn\"],smith25_Silver_data[\"Turn\"]], bins=15, range=(10.5,25.5), density=True, rwidth=0.5)"
   ]
  },
  {
   "cell_type": "code",
   "execution_count": 22,
   "metadata": {},
   "outputs": [
    {
     "data": {
      "text/html": [
       "<div>\n",
       "<style scoped>\n",
       "    .dataframe tbody tr th:only-of-type {\n",
       "        vertical-align: middle;\n",
       "    }\n",
       "\n",
       "    .dataframe tbody tr th {\n",
       "        vertical-align: top;\n",
       "    }\n",
       "\n",
       "    .dataframe thead th {\n",
       "        text-align: right;\n",
       "    }\n",
       "</style>\n",
       "<table border=\"1\" class=\"dataframe\">\n",
       "  <thead>\n",
       "    <tr style=\"text-align: right;\">\n",
       "      <th></th>\n",
       "      <th>Turn</th>\n",
       "      <th>Hund</th>\n",
       "      <th>Money</th>\n",
       "      <th>UselessMoney</th>\n",
       "      <th>Refresh</th>\n",
       "    </tr>\n",
       "  </thead>\n",
       "  <tbody>\n",
       "    <tr>\n",
       "      <th>0</th>\n",
       "      <td>13</td>\n",
       "      <td>屋屋銅銅銅/屋銅銅銅銅/屋屋銀銅銅銅銅鍛/屋屋銅銅銅銅銅鍛/屋金銀銅銅/屋金銅銅銅/屋屋金銀...</td>\n",
       "      <td>3/4/6/5/7/6/8/8/8/5/5/7/9</td>\n",
       "      <td>0/0/0/2/1/0/0/0/0/2/2/1/1</td>\n",
       "      <td>0/0/1/2/2/3/3/4/4/5/5/5/6</td>\n",
       "    </tr>\n",
       "    <tr>\n",
       "      <th>1</th>\n",
       "      <td>18</td>\n",
       "      <td>銅銅銅銅銅/屋屋屋銅銅/屋屋銅銅銅/屋銀銅銅銅/屋銀銅銅銅/屋屋銀銅銅/屋銀銅銅銅/屋屋銀銀...</td>\n",
       "      <td>5/2/3/5/5/4/5/8/6/7/12/6/7/6/7/12/10/8</td>\n",
       "      <td>2/2/0/2/2/0/2/2/0/1/4/0/1/0/1/4/2/0</td>\n",
       "      <td>0/0/1/1/2/2/3/3/4/4/5/5/5/6/6/6/7/7</td>\n",
       "    </tr>\n",
       "    <tr>\n",
       "      <th>2</th>\n",
       "      <td>12</td>\n",
       "      <td>屋銅銅銅銅/屋屋銅銅銅/屋屋銀銅銅銅銅鍛/屋屋銅銅銅/屋金銀銅銅銅銅鍛/屋金銀銅銅/屋金銀銅...</td>\n",
       "      <td>4/3/6/3/9/7/9/8/8/4/5/10</td>\n",
       "      <td>0/0/0/0/3/1/1/0/0/1/2/2</td>\n",
       "      <td>0/0/1/2/2/3/3/4/4/5/5/5</td>\n",
       "    </tr>\n",
       "    <tr>\n",
       "      <th>3</th>\n",
       "      <td>13</td>\n",
       "      <td>屋銅銅銅銅/屋屋銅銅銅/屋屋銀銅銅/屋銀銅銅銅銅銅鍛/屋屋銀銅銅/屋銀銀銅銅銅銅鍛/屋金銀銅...</td>\n",
       "      <td>4/3/4/7/4/8/7/9/8/6/5/8/9</td>\n",
       "      <td>0/0/1/1/1/2/1/1/0/0/2/0/1</td>\n",
       "      <td>0/0/1/2/2/3/3/4/4/5/5/5/6</td>\n",
       "    </tr>\n",
       "    <tr>\n",
       "      <th>4</th>\n",
       "      <td>13</td>\n",
       "      <td>屋銅銅銅銅/屋屋銅銅銅/屋銅銅銅銅/屋屋銀銅銅銅銅鍛/屋銀銅銅銅/屋屋銀銅銅銅銅鍛/金銀銀銅...</td>\n",
       "      <td>4/3/4/6/5/6/9/6/5/9/6/8/11</td>\n",
       "      <td>0/0/1/0/2/0/1/0/2/1/0/0/3</td>\n",
       "      <td>0/0/1/2/2/3/3/4/4/5/5/5/6</td>\n",
       "    </tr>\n",
       "  </tbody>\n",
       "</table>\n",
       "</div>"
      ],
      "text/plain": [
       "   Turn                                               Hund  \\\n",
       "0    13  屋屋銅銅銅/屋銅銅銅銅/屋屋銀銅銅銅銅鍛/屋屋銅銅銅銅銅鍛/屋金銀銅銅/屋金銅銅銅/屋屋金銀...   \n",
       "1    18  銅銅銅銅銅/屋屋屋銅銅/屋屋銅銅銅/屋銀銅銅銅/屋銀銅銅銅/屋屋銀銅銅/屋銀銅銅銅/屋屋銀銀...   \n",
       "2    12  屋銅銅銅銅/屋屋銅銅銅/屋屋銀銅銅銅銅鍛/屋屋銅銅銅/屋金銀銅銅銅銅鍛/屋金銀銅銅/屋金銀銅...   \n",
       "3    13  屋銅銅銅銅/屋屋銅銅銅/屋屋銀銅銅/屋銀銅銅銅銅銅鍛/屋屋銀銅銅/屋銀銀銅銅銅銅鍛/屋金銀銅...   \n",
       "4    13  屋銅銅銅銅/屋屋銅銅銅/屋銅銅銅銅/屋屋銀銅銅銅銅鍛/屋銀銅銅銅/屋屋銀銅銅銅銅鍛/金銀銀銅...   \n",
       "\n",
       "                                    Money  \\\n",
       "0               3/4/6/5/7/6/8/8/8/5/5/7/9   \n",
       "1  5/2/3/5/5/4/5/8/6/7/12/6/7/6/7/12/10/8   \n",
       "2                4/3/6/3/9/7/9/8/8/4/5/10   \n",
       "3               4/3/4/7/4/8/7/9/8/6/5/8/9   \n",
       "4              4/3/4/6/5/6/9/6/5/9/6/8/11   \n",
       "\n",
       "                          UselessMoney                              Refresh  \n",
       "0            0/0/0/2/1/0/0/0/0/2/2/1/1            0/0/1/2/2/3/3/4/4/5/5/5/6  \n",
       "1  2/2/0/2/2/0/2/2/0/1/4/0/1/0/1/4/2/0  0/0/1/1/2/2/3/3/4/4/5/5/5/6/6/6/7/7  \n",
       "2              0/0/0/0/3/1/1/0/0/1/2/2              0/0/1/2/2/3/3/4/4/5/5/5  \n",
       "3            0/0/1/1/1/2/1/1/0/0/2/0/1            0/0/1/2/2/3/3/4/4/5/5/5/6  \n",
       "4            0/0/1/0/2/0/1/0/2/1/0/0/3            0/0/1/2/2/3/3/4/4/5/5/5/6  "
      ]
     },
     "execution_count": 22,
     "metadata": {},
     "output_type": "execute_result"
    }
   ],
   "source": [
    "smith_data_kai = pd.read_csv('./TestProgramSmith_kai.csv', header=0, index_col=0)\n",
    "smith_data_kai.head()"
   ]
  },
  {
   "cell_type": "code",
   "execution_count": 23,
   "metadata": {},
   "outputs": [
    {
     "data": {
      "text/plain": [
       "count    50000.000000\n",
       "mean        15.101500\n",
       "std          1.773894\n",
       "min          9.000000\n",
       "25%         14.000000\n",
       "50%         15.000000\n",
       "75%         16.000000\n",
       "max         24.000000\n",
       "Name: Turn, dtype: float64"
      ]
     },
     "execution_count": 23,
     "metadata": {},
     "output_type": "execute_result"
    }
   ],
   "source": [
    "smith_data_kai_des = smith_data_kai[\"Turn\"].describe()\n",
    "smith_data_kai_des"
   ]
  },
  {
   "cell_type": "code",
   "execution_count": 35,
   "metadata": {},
   "outputs": [
    {
     "data": {
      "text/plain": [
       "(count    660.0\n",
       " mean      11.0\n",
       " std        0.0\n",
       " min       11.0\n",
       " 25%       11.0\n",
       " 50%       11.0\n",
       " 75%       11.0\n",
       " max       11.0\n",
       " Name: Turn, dtype: float64, count    1238.0\n",
       " mean       19.0\n",
       " std         0.0\n",
       " min        19.0\n",
       " 25%        19.0\n",
       " 50%        19.0\n",
       " 75%        19.0\n",
       " max        19.0\n",
       " Name: Turn, dtype: float64)"
      ]
     },
     "execution_count": 35,
     "metadata": {},
     "output_type": "execute_result"
    }
   ],
   "source": [
    "smith_data_haya[\"Turn\"].describe(),smith_data_oso[\"Turn\"].describe()"
   ]
  },
  {
   "cell_type": "code",
   "execution_count": 67,
   "metadata": {},
   "outputs": [],
   "source": [
    "haya = smith_data_haya[\"AllMoney\"].str.split(\"/\")\n",
    "haya_ave = [0,0,0,0,0,0,0,0,0,0,0]\n",
    "for hayai in haya:\n",
    "    index = 0\n",
    "    for s in hayai:\n",
    "        haya_ave[index] += float(s) / haya.count()\n",
    "        index+=1\n",
    "    \n",
    "oso = smith_data_oso[\"AllMoney\"].str.split(\"/\")\n",
    "oso_ave = [0,0,0,0,0,0,0,0,0,0,0,0,0,0,0,0,0,0,0]\n",
    "for osoi in oso:\n",
    "    index = 0\n",
    "    for s in osoi:\n",
    "        oso_ave[index] += float(s) / oso.count()\n",
    "        index+=1\n",
    "\n"
   ]
  },
  {
   "cell_type": "code",
   "execution_count": 79,
   "metadata": {},
   "outputs": [
    {
     "data": {
      "image/png": "[encoded data removed]",
      "text/plain": [
       "<Figure size 432x288 with 1 Axes>"
      ]
     },
     "metadata": {},
     "output_type": "display_data"
    }
   ],
   "source": [
    "max = 19\n",
    "plt.plot(haya_ave[0:max])\n",
    "plt.plot(oso_ave[0:max])\n",
    "plt.grid(True)"
   ]
  },
  {
   "cell_type": "code",
   "execution_count": 77,
   "metadata": {},
   "outputs": [],
   "source": [
    "smith_data_tyu = smith_data[smith_data[\"Turn\"] == 15]\n",
    "\n",
    "tyu = smith_data_tyu[\"AllMoney\"].str.split(\"/\")\n",
    "tyu_ave = [0,0,0,0,0,0,0,0,0,0,0,0,0,0,0]\n",
    "for tyuu in tyu:\n",
    "    index = 0\n",
    "    for s in tyuu:\n",
    "        tyu_ave[index] += float(s) / tyu.count()\n",
    "        index+=1"
   ]
  },
  {
   "cell_type": "code",
   "execution_count": 78,
   "metadata": {},
   "outputs": [
    {
     "data": {
      "image/png": "[encoded data removed]",
      "text/plain": [
       "<Figure size 432x288 with 1 Axes>"
      ]
     },
     "metadata": {},
     "output_type": "display_data"
    }
   ],
   "source": [
    "max = 19\n",
    "plt.plot(haya_ave[0:max])\n",
    "plt.plot(tyu_ave[0:max])\n",
    "plt.plot(oso_ave[0:max])\n",
    "plt.grid(True)"
   ]
  },
  {
   "cell_type": "code",
   "execution_count": null,
   "metadata": {},
   "outputs": [],
   "source": []
  }
 ],
 "metadata": {
  "kernelspec": {
   "display_name": "Python 3",
   "language": "python",
   "name": "python3"
  },
  "language_info": {
   "codemirror_mode": {
    "name": "ipython",
    "version": 3
   },
   "file_extension": ".py",
   "mimetype": "text/x-python",
   "name": "python",
   "nbconvert_exporter": "python",
   "pygments_lexer": "ipython3",
   "version": "3.6.5"
  }
 },
 "nbformat": 4,
 "nbformat_minor": 2
}
