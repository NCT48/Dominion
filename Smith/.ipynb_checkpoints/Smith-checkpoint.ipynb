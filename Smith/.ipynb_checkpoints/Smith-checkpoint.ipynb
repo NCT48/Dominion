{
 "cells": [
  {
   "cell_type": "code",
   "execution_count": 1,
   "metadata": {},
   "outputs": [],
   "source": [
    "import numpy as np\n",
    "import pandas as pd\n",
    "import matplotlib.pyplot as plt"
   ]
  },
  {
   "cell_type": "code",
   "execution_count": 2,
   "metadata": {
    "scrolled": false
   },
   "outputs": [
    {
     "data": {
      "text/html": [
       "<div>\n",
       "<style scoped>\n",
       "    .dataframe tbody tr th:only-of-type {\n",
       "        vertical-align: middle;\n",
       "    }\n",
       "\n",
       "    .dataframe tbody tr th {\n",
       "        vertical-align: top;\n",
       "    }\n",
       "\n",
       "    .dataframe thead th {\n",
       "        text-align: right;\n",
       "    }\n",
       "</style>\n",
       "<table border=\"1\" class=\"dataframe\">\n",
       "  <thead>\n",
       "    <tr style=\"text-align: right;\">\n",
       "      <th></th>\n",
       "      <th>Turn</th>\n",
       "      <th>Hund</th>\n",
       "      <th>Money</th>\n",
       "      <th>UselessMoney</th>\n",
       "      <th>Refresh</th>\n",
       "    </tr>\n",
       "  </thead>\n",
       "  <tbody>\n",
       "    <tr>\n",
       "      <th>0</th>\n",
       "      <td>13</td>\n",
       "      <td>屋銅銅銅銅/屋屋銅銅銅/屋銅銅銅銅/屋屋銀銅銅銅銅鍛/屋銀銅銅銅/屋銀銅銅銅/屋金銀銅銅/屋...</td>\n",
       "      <td>4/3/4/6/5/5/7/10/6/8/5/10/9</td>\n",
       "      <td>0/0/1/0/2/2/1/2/0/0/2/2/1</td>\n",
       "      <td>0/0/1/2/2/3/3/4/4/5/5/5/6</td>\n",
       "    </tr>\n",
       "    <tr>\n",
       "      <th>1</th>\n",
       "      <td>15</td>\n",
       "      <td>屋屋銅銅銅/屋銅銅銅銅/銀銅銅銅銅/屋屋屋銅銅銅銅鍛/金銀銅銅銅/屋金銅銅銅/屋屋金銅銅/銀...</td>\n",
       "      <td>3/4/6/4/8/6/5/10/3/10/8/4/3/7/12</td>\n",
       "      <td>0/0/0/1/2/0/2/2/0/2/0/1/0/1/4</td>\n",
       "      <td>0/0/1/2/2/3/3/4/4/5/5/5/6/6/6</td>\n",
       "    </tr>\n",
       "    <tr>\n",
       "      <th>2</th>\n",
       "      <td>15</td>\n",
       "      <td>屋屋屋銅銅/銅銅銅銅銅/屋銅銅銅銅銅銅鍛/屋屋銅銅銅/屋金銀銅銅銅銅鍛/屋屋銅銅銅/屋銀銀銅...</td>\n",
       "      <td>2/5/6/3/9/3/6/9/4/7/9/6/7/8/9</td>\n",
       "      <td>2/1/0/0/3/0/0/1/1/1/1/0/1/0/1</td>\n",
       "      <td>0/0/1/2/3/3/4/4/5/5/6/6/6/7/7</td>\n",
       "    </tr>\n",
       "    <tr>\n",
       "      <th>3</th>\n",
       "      <td>16</td>\n",
       "      <td>屋銅銅銅銅/屋屋銅銅銅/屋屋銀銅銅/屋銀銅銅銅銅銅鍛/屋屋銀銅銅/屋屋銀銀銅/屋金銅銅銅/屋...</td>\n",
       "      <td>4/3/4/7/4/5/6/9/5/8/6/5/11/6/5/8</td>\n",
       "      <td>0/0/1/1/1/2/0/1/2/0/0/2/3/0/2/0</td>\n",
       "      <td>0/0/1/2/2/3/3/4/4/5/5/5/6/6/6/7</td>\n",
       "    </tr>\n",
       "    <tr>\n",
       "      <th>4</th>\n",
       "      <td>14</td>\n",
       "      <td>屋屋屋銅銅/銅銅銅銅銅/屋屋銅銅銅銅銅鍛/屋屋屋銅銅/屋銀銅銅銅銅銅鍛/屋屋銅銅銅/金銅銅銅...</td>\n",
       "      <td>2/5/5/2/7/3/7/8/7/8/6/6/11/10</td>\n",
       "      <td>2/1/2/2/1/0/1/0/1/0/0/0/3/2</td>\n",
       "      <td>0/0/1/2/3/4/4/5/5/6/6/6/7/7</td>\n",
       "    </tr>\n",
       "  </tbody>\n",
       "</table>\n",
       "</div>"
      ],
      "text/plain": [
       "   Turn                                               Hund  \\\n",
       "0    13  屋銅銅銅銅/屋屋銅銅銅/屋銅銅銅銅/屋屋銀銅銅銅銅鍛/屋銀銅銅銅/屋銀銅銅銅/屋金銀銅銅/屋...   \n",
       "1    15  屋屋銅銅銅/屋銅銅銅銅/銀銅銅銅銅/屋屋屋銅銅銅銅鍛/金銀銅銅銅/屋金銅銅銅/屋屋金銅銅/銀...   \n",
       "2    15  屋屋屋銅銅/銅銅銅銅銅/屋銅銅銅銅銅銅鍛/屋屋銅銅銅/屋金銀銅銅銅銅鍛/屋屋銅銅銅/屋銀銀銅...   \n",
       "3    16  屋銅銅銅銅/屋屋銅銅銅/屋屋銀銅銅/屋銀銅銅銅銅銅鍛/屋屋銀銅銅/屋屋銀銀銅/屋金銅銅銅/屋...   \n",
       "4    14  屋屋屋銅銅/銅銅銅銅銅/屋屋銅銅銅銅銅鍛/屋屋屋銅銅/屋銀銅銅銅銅銅鍛/屋屋銅銅銅/金銅銅銅...   \n",
       "\n",
       "                              Money                     UselessMoney  \\\n",
       "0       4/3/4/6/5/5/7/10/6/8/5/10/9        0/0/1/0/2/2/1/2/0/0/2/2/1   \n",
       "1  3/4/6/4/8/6/5/10/3/10/8/4/3/7/12    0/0/0/1/2/0/2/2/0/2/0/1/0/1/4   \n",
       "2     2/5/6/3/9/3/6/9/4/7/9/6/7/8/9    2/1/0/0/3/0/0/1/1/1/1/0/1/0/1   \n",
       "3  4/3/4/7/4/5/6/9/5/8/6/5/11/6/5/8  0/0/1/1/1/2/0/1/2/0/0/2/3/0/2/0   \n",
       "4     2/5/5/2/7/3/7/8/7/8/6/6/11/10      2/1/2/2/1/0/1/0/1/0/0/0/3/2   \n",
       "\n",
       "                           Refresh  \n",
       "0        0/0/1/2/2/3/3/4/4/5/5/5/6  \n",
       "1    0/0/1/2/2/3/3/4/4/5/5/5/6/6/6  \n",
       "2    0/0/1/2/3/3/4/4/5/5/6/6/6/7/7  \n",
       "3  0/0/1/2/2/3/3/4/4/5/5/5/6/6/6/7  \n",
       "4      0/0/1/2/3/4/4/5/5/6/6/6/7/7  "
      ]
     },
     "execution_count": 2,
     "metadata": {},
     "output_type": "execute_result"
    }
   ],
   "source": [
    "smith_data = pd.read_csv('./TestProgramSmith.csv', header=0, index_col=0)\n",
    "smith_data.head()"
   ]
  },
  {
   "cell_type": "code",
   "execution_count": 3,
   "metadata": {
    "scrolled": true
   },
   "outputs": [
    {
     "name": "stdout",
     "output_type": "stream",
     "text": [
      "count    50000.000000\n",
      "mean        14.996700\n",
      "std          1.716866\n",
      "min          9.000000\n",
      "25%         14.000000\n",
      "50%         15.000000\n",
      "75%         16.000000\n",
      "max         23.000000\n",
      "Name: Turn, dtype: float64\n"
     ]
    }
   ],
   "source": [
    "smith_data_des = smith_data[\"Turn\"].describe()\n",
    "print(smith_data_des)"
   ]
  },
  {
   "cell_type": "code",
   "execution_count": 4,
   "metadata": {},
   "outputs": [
    {
     "data": {
      "text/plain": [
       "(8.5, 23.5)"
      ]
     },
     "execution_count": 4,
     "metadata": {},
     "output_type": "execute_result"
    }
   ],
   "source": [
    "Bins = smith_data[\"Turn\"].max() - smith_data[\"Turn\"].min() + 1\n",
    "Range = (smith_data[\"Turn\"].min()-0.5, smith_data[\"Turn\"].max()+0.5)\n",
    "Range"
   ]
  },
  {
   "cell_type": "code",
   "execution_count": 5,
   "metadata": {},
   "outputs": [
    {
     "data": {
      "text/plain": [
       "(array([2.0000e-05, 6.6000e-04, 1.3620e-02, 4.2760e-02, 1.3996e-01,\n",
       "        2.0244e-01, 2.2690e-01, 1.9356e-01, 1.0392e-01, 4.9960e-02,\n",
       "        1.9060e-02, 5.4600e-03, 1.3800e-03, 2.6000e-04, 4.0000e-05]),\n",
       " array([ 8.5,  9.5, 10.5, 11.5, 12.5, 13.5, 14.5, 15.5, 16.5, 17.5, 18.5,\n",
       "        19.5, 20.5, 21.5, 22.5, 23.5]),\n",
       " <a list of 15 Patch objects>)"
      ]
     },
     "execution_count": 5,
     "metadata": {},
     "output_type": "execute_result"
    },
    {
     "data": {
      "image/png": "[encoded data removed]",
      "text/plain": [
       "<Figure size 432x288 with 1 Axes>"
      ]
     },
     "metadata": {},
     "output_type": "display_data"
    }
   ],
   "source": [
    "plt.hist(smith_data[\"Turn\"], bins=Bins, range=Range, density=True, rwidth=0.5)"
   ]
  },
  {
   "cell_type": "code",
   "execution_count": 6,
   "metadata": {},
   "outputs": [],
   "source": [
    "#smith_data34 = smith_data[smith_data[\"Hund\"].str.startswith(\"屋屋銅銅銅/\", \"屋銅銅銅銅/\")]\n",
    "#smith_data25 = smith_data[smith_data[\"Hund\"].str.startswith(\"銅銅銅銅銅/\", \"屋屋屋銅銅/\")]\n",
    "smith_data34 = smith_data[smith_data[\"Hund\"].str.contains(\"^(?:屋屋銅銅銅/|屋銅銅銅銅/)\")]\n",
    "smith_data25 = smith_data[smith_data[\"Hund\"].str.contains(\"^(?:屋屋屋銅銅/|銅銅銅銅銅/)\")]"
   ]
  },
  {
   "cell_type": "code",
   "execution_count": 7,
   "metadata": {},
   "outputs": [
    {
     "data": {
      "text/plain": [
       "(count    8358.000000\n",
       " mean       15.809285\n",
       " std         1.691966\n",
       " min        11.000000\n",
       " 25%        15.000000\n",
       " 50%        16.000000\n",
       " 75%        17.000000\n",
       " max        22.000000\n",
       " Name: Turn, dtype: float64, count    41642.000000\n",
       " mean        14.833605\n",
       " std          1.674993\n",
       " min          9.000000\n",
       " 25%         14.000000\n",
       " 50%         15.000000\n",
       " 75%         16.000000\n",
       " max         23.000000\n",
       " Name: Turn, dtype: float64)"
      ]
     },
     "execution_count": 7,
     "metadata": {},
     "output_type": "execute_result"
    }
   ],
   "source": [
    "smith_data34_des = smith_data34[\"Turn\"].describe()\n",
    "smith_data25_des = smith_data25[\"Turn\"].describe()\n",
    "\n",
    "smith_data25_des, smith_data34_des"
   ]
  },
  {
   "cell_type": "code",
   "execution_count": 8,
   "metadata": {},
   "outputs": [
    {
     "data": {
      "text/plain": [
       "([array([0.        , 0.        , 0.00167504, 0.01698971, 0.04977267,\n",
       "         0.15745394, 0.21859296, 0.22529313, 0.17982771, 0.08985403,\n",
       "         0.03948313, 0.01543431, 0.00502513, 0.00059823, 0.        ]),\n",
       "  array([2.40142164e-05, 7.92469142e-04, 1.60174823e-02, 4.79323760e-02,\n",
       "         1.58061572e-01, 2.11469190e-01, 2.28567312e-01, 1.87190817e-01,\n",
       "         8.86845012e-02, 4.19528361e-02, 1.49608568e-02, 3.45804716e-03,\n",
       "         6.48383843e-04, 1.92113731e-04, 4.80284328e-05])],\n",
       " array([ 8.5,  9.5, 10.5, 11.5, 12.5, 13.5, 14.5, 15.5, 16.5, 17.5, 18.5,\n",
       "        19.5, 20.5, 21.5, 22.5, 23.5]),\n",
       " <a list of 2 Lists of Patches objects>)"
      ]
     },
     "execution_count": 8,
     "metadata": {},
     "output_type": "execute_result"
    },
    {
     "data": {
      "image/png": "[encoded data removed]",
      "text/plain": [
       "<Figure size 432x288 with 1 Axes>"
      ]
     },
     "metadata": {},
     "output_type": "display_data"
    }
   ],
   "source": [
    "plt.hist([smith_data25[\"Turn\"],smith_data34[\"Turn\"]],bins=Bins, range=Range, density=True, rwidth=0.5)"
   ]
  },
  {
   "cell_type": "code",
   "execution_count": 9,
   "metadata": {},
   "outputs": [],
   "source": [
    "smith_data_sizumi = smith_data[smith_data[\"Hund\"].str.find(\"鍛\") == 31]\n",
    "smith_data_sizumazu = smith_data[smith_data[\"Hund\"].str.find(\"鍛\") != 31]"
   ]
  },
  {
   "cell_type": "code",
   "execution_count": 10,
   "metadata": {},
   "outputs": [
    {
     "data": {
      "text/plain": [
       "(count    7754.000000\n",
       " mean       15.362909\n",
       " std         1.658858\n",
       " min        10.000000\n",
       " 25%        14.000000\n",
       " 50%        15.000000\n",
       " 75%        16.000000\n",
       " max        22.000000\n",
       " Name: Turn, dtype: float64, count    42246.000000\n",
       " mean        14.929484\n",
       " std          1.718866\n",
       " min          9.000000\n",
       " 25%         14.000000\n",
       " 50%         15.000000\n",
       " 75%         16.000000\n",
       " max         23.000000\n",
       " Name: Turn, dtype: float64)"
      ]
     },
     "execution_count": 10,
     "metadata": {},
     "output_type": "execute_result"
    }
   ],
   "source": [
    "smith_data_sizumi_des = smith_data_sizumi[\"Turn\"].describe()\n",
    "smith_data_sizumazu_des = smith_data_sizumazu[\"Turn\"].describe()\n",
    "\n",
    "smith_data_sizumi_des, smith_data_sizumazu_des"
   ]
  },
  {
   "cell_type": "code",
   "execution_count": 11,
   "metadata": {},
   "outputs": [
    {
     "data": {
      "text/plain": [
       "([array([0.00000000e+00, 1.28965695e-04, 1.41862265e-03, 3.24993552e-02,\n",
       "         9.82718597e-02, 1.70750580e-01, 2.47227238e-01, 2.10343049e-01,\n",
       "         1.35413980e-01, 7.35104462e-02, 2.23110653e-02, 5.80345628e-03,\n",
       "         2.19241682e-03, 1.28965695e-04, 0.00000000e+00]),\n",
       "  array([2.36708801e-05, 7.57468163e-04, 1.58594897e-02, 4.46432798e-02,\n",
       "         1.47611608e-01, 2.08256403e-01, 2.23169057e-01, 1.90479572e-01,\n",
       "         9.81394688e-02, 4.56374568e-02, 1.84632865e-02, 5.39696066e-03,\n",
       "         1.23088576e-03, 2.84050561e-04, 4.73417602e-05])],\n",
       " array([ 8.5,  9.5, 10.5, 11.5, 12.5, 13.5, 14.5, 15.5, 16.5, 17.5, 18.5,\n",
       "        19.5, 20.5, 21.5, 22.5, 23.5]),\n",
       " <a list of 2 Lists of Patches objects>)"
      ]
     },
     "execution_count": 11,
     "metadata": {},
     "output_type": "execute_result"
    },
    {
     "data": {
      "image/png": "[encoded data removed]",
      "text/plain": [
       "<Figure size 432x288 with 1 Axes>"
      ]
     },
     "metadata": {},
     "output_type": "display_data"
    }
   ],
   "source": [
    "plt.hist([smith_data_sizumi[\"Turn\"],smith_data_sizumazu[\"Turn\"]], bins=Bins, range=Range, density=True, rwidth=0.5)"
   ]
  },
  {
   "cell_type": "code",
   "execution_count": 12,
   "metadata": {},
   "outputs": [],
   "source": [
    "smithTry = smith_data['Turn'].quantile([0,0.33,0.66,1]).tolist()\n",
    "try_cat = ['速','中','遅']\n",
    "smith_data['TurnLabel'] = pd.cut(smith_data['Turn'], smithTry, labels=try_cat, include_lowest=True, right=True)"
   ]
  },
  {
   "cell_type": "code",
   "execution_count": 13,
   "metadata": {
    "scrolled": true
   },
   "outputs": [
    {
     "name": "stdout",
     "output_type": "stream",
     "text": [
      "count    19973.000000\n",
      "mean         4.082561\n",
      "std          0.835356\n",
      "min          2.000000\n",
      "25%          4.000000\n",
      "50%          4.000000\n",
      "75%          5.000000\n",
      "max          7.000000\n",
      "Name: Hund, dtype: float64\n",
      "count    9004.000000\n",
      "mean        4.597290\n",
      "std         0.856451\n",
      "min         3.000000\n",
      "25%         4.000000\n",
      "50%         5.000000\n",
      "75%         5.000000\n",
      "max         8.000000\n",
      "Name: Hund, dtype: float64\n"
     ]
    }
   ],
   "source": [
    "smith_dataF = smith_data[smith_data[\"TurnLabel\"]==\"速\"]\n",
    "smith_dataM = smith_data[smith_data[\"TurnLabel\"]==\"中\"]\n",
    "smith_dataS = smith_data[smith_data[\"TurnLabel\"]==\"遅\"]\n",
    "\n",
    "print(smith_dataF[\"Hund\"].str.count(\"鍛\").describe())\n",
    "print(smith_dataS[\"Hund\"].str.count(\"鍛\").describe())"
   ]
  },
  {
   "cell_type": "code",
   "execution_count": 14,
   "metadata": {},
   "outputs": [
    {
     "data": {
      "text/html": [
       "<div>\n",
       "<style scoped>\n",
       "    .dataframe tbody tr th:only-of-type {\n",
       "        vertical-align: middle;\n",
       "    }\n",
       "\n",
       "    .dataframe tbody tr th {\n",
       "        vertical-align: top;\n",
       "    }\n",
       "\n",
       "    .dataframe thead th {\n",
       "        text-align: right;\n",
       "    }\n",
       "</style>\n",
       "<table border=\"1\" class=\"dataframe\">\n",
       "  <thead>\n",
       "    <tr style=\"text-align: right;\">\n",
       "      <th></th>\n",
       "      <th>Turn</th>\n",
       "      <th>Hund</th>\n",
       "      <th>Money</th>\n",
       "      <th>UselessMoney</th>\n",
       "      <th>Refresh</th>\n",
       "      <th>TurnLabel</th>\n",
       "    </tr>\n",
       "  </thead>\n",
       "  <tbody>\n",
       "    <tr>\n",
       "      <th>116</th>\n",
       "      <td>11</td>\n",
       "      <td>屋銅銅銅銅/屋屋銅銅銅/屋銀銅銅銅銅銅鍛/屋屋銅銅銅/屋金銀銅銅/屋銀銀銅銅銅銅鍛/屋金金銅...</td>\n",
       "      <td>4/3/7/3/7/8/8/5/9/4/8</td>\n",
       "      <td>0/0/1/0/1/0/0/2/1/1/0</td>\n",
       "      <td>0/0/1/2/2/3/3/4/4/5/5</td>\n",
       "      <td>速</td>\n",
       "    </tr>\n",
       "    <tr>\n",
       "      <th>228</th>\n",
       "      <td>11</td>\n",
       "      <td>屋銅銅銅銅/屋屋銅銅銅/屋屋銀銅銅銅銅鍛/屋金銅銅銅/屋屋銀銅銅/屋金銅銅銅銅銅鍛/屋屋金銀...</td>\n",
       "      <td>4/3/6/6/4/8/7/8/8/4/10</td>\n",
       "      <td>0/0/0/0/1/0/1/0/0/1/2</td>\n",
       "      <td>0/0/1/2/2/3/3/4/4/5/5</td>\n",
       "      <td>速</td>\n",
       "    </tr>\n",
       "    <tr>\n",
       "      <th>266</th>\n",
       "      <td>11</td>\n",
       "      <td>屋銅銅銅銅/屋屋銅銅銅/屋屋銀銅銅銅銅鍛/屋銀銅銅銅/屋屋金銅銅銅銅鍛/屋金銅銅銅銅銅鍛/屋...</td>\n",
       "      <td>4/3/6/5/7/8/7/8/4/8/8</td>\n",
       "      <td>0/0/0/2/1/0/1/0/1/0/0</td>\n",
       "      <td>0/0/1/2/2/3/3/4/4/5/5</td>\n",
       "      <td>速</td>\n",
       "    </tr>\n",
       "    <tr>\n",
       "      <th>312</th>\n",
       "      <td>11</td>\n",
       "      <td>屋銅銅銅銅/屋屋銅銅銅/屋銀銅銅銅銅銅鍛/屋屋銅銅銅/屋金銀銅銅/屋屋屋銅銅銅銅鍛/金銀銀銅...</td>\n",
       "      <td>4/3/7/3/7/4/9/8/6/8/9</td>\n",
       "      <td>0/0/1/0/1/1/1/0/0/0/1</td>\n",
       "      <td>0/0/1/2/2/3/3/4/4/5/5</td>\n",
       "      <td>速</td>\n",
       "    </tr>\n",
       "    <tr>\n",
       "      <th>327</th>\n",
       "      <td>11</td>\n",
       "      <td>屋銅銅銅銅/屋屋銅銅銅/屋屋銀銅銅銅銅鍛/屋屋屋銅銅銅銅鍛/金銀銅銅銅/屋屋銀銅銅/屋金金銀...</td>\n",
       "      <td>4/3/6/4/8/4/11/4/8/8/9</td>\n",
       "      <td>0/0/0/1/2/1/3/1/0/0/1</td>\n",
       "      <td>0/0/1/2/2/3/3/4/4/5/5</td>\n",
       "      <td>速</td>\n",
       "    </tr>\n",
       "  </tbody>\n",
       "</table>\n",
       "</div>"
      ],
      "text/plain": [
       "     Turn                                               Hund  \\\n",
       "116    11  屋銅銅銅銅/屋屋銅銅銅/屋銀銅銅銅銅銅鍛/屋屋銅銅銅/屋金銀銅銅/屋銀銀銅銅銅銅鍛/屋金金銅...   \n",
       "228    11  屋銅銅銅銅/屋屋銅銅銅/屋屋銀銅銅銅銅鍛/屋金銅銅銅/屋屋銀銅銅/屋金銅銅銅銅銅鍛/屋屋金銀...   \n",
       "266    11  屋銅銅銅銅/屋屋銅銅銅/屋屋銀銅銅銅銅鍛/屋銀銅銅銅/屋屋金銅銅銅銅鍛/屋金銅銅銅銅銅鍛/屋...   \n",
       "312    11  屋銅銅銅銅/屋屋銅銅銅/屋銀銅銅銅銅銅鍛/屋屋銅銅銅/屋金銀銅銅/屋屋屋銅銅銅銅鍛/金銀銀銅...   \n",
       "327    11  屋銅銅銅銅/屋屋銅銅銅/屋屋銀銅銅銅銅鍛/屋屋屋銅銅銅銅鍛/金銀銅銅銅/屋屋銀銅銅/屋金金銀...   \n",
       "\n",
       "                      Money           UselessMoney                Refresh  \\\n",
       "116   4/3/7/3/7/8/8/5/9/4/8  0/0/1/0/1/0/0/2/1/1/0  0/0/1/2/2/3/3/4/4/5/5   \n",
       "228  4/3/6/6/4/8/7/8/8/4/10  0/0/0/0/1/0/1/0/0/1/2  0/0/1/2/2/3/3/4/4/5/5   \n",
       "266   4/3/6/5/7/8/7/8/4/8/8  0/0/0/2/1/0/1/0/1/0/0  0/0/1/2/2/3/3/4/4/5/5   \n",
       "312   4/3/7/3/7/4/9/8/6/8/9  0/0/1/0/1/1/1/0/0/0/1  0/0/1/2/2/3/3/4/4/5/5   \n",
       "327  4/3/6/4/8/4/11/4/8/8/9  0/0/0/1/2/1/3/1/0/0/1  0/0/1/2/2/3/3/4/4/5/5   \n",
       "\n",
       "    TurnLabel  \n",
       "116         速  \n",
       "228         速  \n",
       "266         速  \n",
       "312         速  \n",
       "327         速  "
      ]
     },
     "execution_count": 14,
     "metadata": {},
     "output_type": "execute_result"
    }
   ],
   "source": [
    "smith_data_haya = smith_data[smith_data[\"Turn\"] == 11]\n",
    "smith_data_haya.head(5)"
   ]
  },
  {
   "cell_type": "code",
   "execution_count": 15,
   "metadata": {},
   "outputs": [
    {
     "data": {
      "text/html": [
       "<div>\n",
       "<style scoped>\n",
       "    .dataframe tbody tr th:only-of-type {\n",
       "        vertical-align: middle;\n",
       "    }\n",
       "\n",
       "    .dataframe tbody tr th {\n",
       "        vertical-align: top;\n",
       "    }\n",
       "\n",
       "    .dataframe thead th {\n",
       "        text-align: right;\n",
       "    }\n",
       "</style>\n",
       "<table border=\"1\" class=\"dataframe\">\n",
       "  <thead>\n",
       "    <tr style=\"text-align: right;\">\n",
       "      <th></th>\n",
       "      <th>Turn</th>\n",
       "      <th>Hund</th>\n",
       "      <th>Money</th>\n",
       "      <th>UselessMoney</th>\n",
       "      <th>Refresh</th>\n",
       "      <th>TurnLabel</th>\n",
       "    </tr>\n",
       "  </thead>\n",
       "  <tbody>\n",
       "    <tr>\n",
       "      <th>16</th>\n",
       "      <td>19</td>\n",
       "      <td>屋屋銅銅銅/屋銅銅銅銅/屋屋銅銅銅銅銅鍛/屋銀銅銅銅/屋屋銀銅銅銅銅鍛/屋銀銅銅銅/屋金銀銅...</td>\n",
       "      <td>3/4/5/5/6/5/7/6/8/12/5/5/7/11/6/7/7/6/8</td>\n",
       "      <td>0/0/2/2/0/2/1/0/0/4/2/2/1/3/0/1/1/0/0</td>\n",
       "      <td>0/0/1/2/2/3/3/4/4/5/5/5/6/6/6/7/7/7/7</td>\n",
       "      <td>遅</td>\n",
       "    </tr>\n",
       "    <tr>\n",
       "      <th>80</th>\n",
       "      <td>19</td>\n",
       "      <td>銅銅銅銅銅/屋屋屋銅銅/屋屋屋銅銅銅銅鍛/屋屋銅銅銅/屋屋銀銅銅銅銅鍛/屋銀銅銅銅/金銀銀銅...</td>\n",
       "      <td>5/2/4/3/6/5/9/5/5/11/7/6/7/10/7/7/10/7/10</td>\n",
       "      <td>1/2/1/0/0/2/3/2/2/3/1/0/1/2/1/1/2/1/2</td>\n",
       "      <td>0/0/1/2/3/3/4/4/5/5/6/6/6/7/7/7/8/8/8</td>\n",
       "      <td>遅</td>\n",
       "    </tr>\n",
       "    <tr>\n",
       "      <th>85</th>\n",
       "      <td>19</td>\n",
       "      <td>銅銅銅銅銅/屋屋屋銅銅/屋屋銅銅銅/屋屋銅銅銅銅銅鍛/屋銀銅銅銅/屋銀銅銅銅/屋銀銅銅銅銅銅...</td>\n",
       "      <td>5/2/3/5/5/5/7/6/5/8/5/11/7/5/7/12/5/6/11</td>\n",
       "      <td>1/2/0/2/2/2/1/0/2/0/2/3/1/2/1/4/2/0/3</td>\n",
       "      <td>0/0/1/2/3/3/4/4/5/5/5/6/6/6/7/7/7/7/8</td>\n",
       "      <td>遅</td>\n",
       "    </tr>\n",
       "    <tr>\n",
       "      <th>142</th>\n",
       "      <td>19</td>\n",
       "      <td>屋銅銅銅銅/屋屋銅銅銅/屋屋銅銅銅銅銅鍛/屋銀銅銅銅/屋屋銀銅銅/銀銀銀銅銅銅銅鍛/屋屋銅銅...</td>\n",
       "      <td>4/3/5/5/4/10/3/7/9/5/7/9/5/4/15/4/7/7/8</td>\n",
       "      <td>0/0/2/2/1/4/0/1/1/2/1/1/2/1/7/1/1/1/0</td>\n",
       "      <td>0/0/1/2/2/3/3/4/4/5/5/5/6/6/6/7/7/7/7</td>\n",
       "      <td>遅</td>\n",
       "    </tr>\n",
       "    <tr>\n",
       "      <th>171</th>\n",
       "      <td>19</td>\n",
       "      <td>屋銅銅銅銅/屋屋銅銅銅/屋屋銀銅銅/屋銅銅銅銅/屋屋銅銅銅銅銅鍛/屋銀銀銅銅/屋金銀銅銅/屋...</td>\n",
       "      <td>4/3/4/4/5/6/7/9/5/5/11/9/7/5/7/5/6/6/15</td>\n",
       "      <td>0/0/1/1/2/0/1/1/2/2/3/1/1/2/1/2/0/0/7</td>\n",
       "      <td>0/0/1/1/2/2/3/3/4/4/4/5/5/5/6/6/6/6/7</td>\n",
       "      <td>遅</td>\n",
       "    </tr>\n",
       "  </tbody>\n",
       "</table>\n",
       "</div>"
      ],
      "text/plain": [
       "     Turn                                               Hund  \\\n",
       "16     19  屋屋銅銅銅/屋銅銅銅銅/屋屋銅銅銅銅銅鍛/屋銀銅銅銅/屋屋銀銅銅銅銅鍛/屋銀銅銅銅/屋金銀銅...   \n",
       "80     19  銅銅銅銅銅/屋屋屋銅銅/屋屋屋銅銅銅銅鍛/屋屋銅銅銅/屋屋銀銅銅銅銅鍛/屋銀銅銅銅/金銀銀銅...   \n",
       "85     19  銅銅銅銅銅/屋屋屋銅銅/屋屋銅銅銅/屋屋銅銅銅銅銅鍛/屋銀銅銅銅/屋銀銅銅銅/屋銀銅銅銅銅銅...   \n",
       "142    19  屋銅銅銅銅/屋屋銅銅銅/屋屋銅銅銅銅銅鍛/屋銀銅銅銅/屋屋銀銅銅/銀銀銀銅銅銅銅鍛/屋屋銅銅...   \n",
       "171    19  屋銅銅銅銅/屋屋銅銅銅/屋屋銀銅銅/屋銅銅銅銅/屋屋銅銅銅銅銅鍛/屋銀銀銅銅/屋金銀銅銅/屋...   \n",
       "\n",
       "                                         Money  \\\n",
       "16     3/4/5/5/6/5/7/6/8/12/5/5/7/11/6/7/7/6/8   \n",
       "80   5/2/4/3/6/5/9/5/5/11/7/6/7/10/7/7/10/7/10   \n",
       "85    5/2/3/5/5/5/7/6/5/8/5/11/7/5/7/12/5/6/11   \n",
       "142    4/3/5/5/4/10/3/7/9/5/7/9/5/4/15/4/7/7/8   \n",
       "171    4/3/4/4/5/6/7/9/5/5/11/9/7/5/7/5/6/6/15   \n",
       "\n",
       "                              UselessMoney  \\\n",
       "16   0/0/2/2/0/2/1/0/0/4/2/2/1/3/0/1/1/0/0   \n",
       "80   1/2/1/0/0/2/3/2/2/3/1/0/1/2/1/1/2/1/2   \n",
       "85   1/2/0/2/2/2/1/0/2/0/2/3/1/2/1/4/2/0/3   \n",
       "142  0/0/2/2/1/4/0/1/1/2/1/1/2/1/7/1/1/1/0   \n",
       "171  0/0/1/1/2/0/1/1/2/2/3/1/1/2/1/2/0/0/7   \n",
       "\n",
       "                                   Refresh TurnLabel  \n",
       "16   0/0/1/2/2/3/3/4/4/5/5/5/6/6/6/7/7/7/7         遅  \n",
       "80   0/0/1/2/3/3/4/4/5/5/6/6/6/7/7/7/8/8/8         遅  \n",
       "85   0/0/1/2/3/3/4/4/5/5/5/6/6/6/7/7/7/7/8         遅  \n",
       "142  0/0/1/2/2/3/3/4/4/5/5/5/6/6/6/7/7/7/7         遅  \n",
       "171  0/0/1/1/2/2/3/3/4/4/4/5/5/5/6/6/6/6/7         遅  "
      ]
     },
     "execution_count": 15,
     "metadata": {},
     "output_type": "execute_result"
    }
   ],
   "source": [
    "smith_data_oso = smith_data[smith_data[\"Turn\"] == 19]\n",
    "smith_data_oso.head(5)"
   ]
  },
  {
   "cell_type": "code",
   "execution_count": 16,
   "metadata": {
    "scrolled": true
   },
   "outputs": [
    {
     "data": {
      "text/html": [
       "<div>\n",
       "<style scoped>\n",
       "    .dataframe tbody tr th:only-of-type {\n",
       "        vertical-align: middle;\n",
       "    }\n",
       "\n",
       "    .dataframe tbody tr th {\n",
       "        vertical-align: top;\n",
       "    }\n",
       "\n",
       "    .dataframe thead th {\n",
       "        text-align: right;\n",
       "    }\n",
       "</style>\n",
       "<table border=\"1\" class=\"dataframe\">\n",
       "  <thead>\n",
       "    <tr style=\"text-align: right;\">\n",
       "      <th></th>\n",
       "      <th>Turn</th>\n",
       "      <th>Hund</th>\n",
       "      <th>Money</th>\n",
       "      <th>UselessMoney</th>\n",
       "      <th>Refresh</th>\n",
       "    </tr>\n",
       "  </thead>\n",
       "  <tbody>\n",
       "    <tr>\n",
       "      <th>1248</th>\n",
       "      <td>11</td>\n",
       "      <td>銅銅銅銅銅/屋屋屋銅銅/屋屋屋銅銅銅銅鍛/屋銀銅銅銅銅銅鍛/屋屋銀銅銅/屋金銅銅銅銅銅鍛/銀...</td>\n",
       "      <td>5/2/4/7/4/8/6/8/8/9/8</td>\n",
       "      <td>1/2/1/1/1/2/0/0/0/1/0</td>\n",
       "      <td>0/0/1/2/3/3/4/4/5/5/6</td>\n",
       "    </tr>\n",
       "    <tr>\n",
       "      <th>4369</th>\n",
       "      <td>11</td>\n",
       "      <td>屋屋屋銅銅/銅銅銅銅銅/屋屋銅銅銅/屋銅銅銅銅銅銅鍛/屋屋銀銅銅/屋金銅銅銅銅銅鍛/金銀銅銅...</td>\n",
       "      <td>2/5/3/6/4/8/8/8/1/8/8</td>\n",
       "      <td>2/1/0/0/1/2/0/0/1/0/0</td>\n",
       "      <td>0/0/1/2/3/3/4/4/5/5/6</td>\n",
       "    </tr>\n",
       "    <tr>\n",
       "      <th>13079</th>\n",
       "      <td>11</td>\n",
       "      <td>銅銅銅銅銅/屋屋屋銅銅/屋屋銅銅銅/屋銅銅銅銅銅銅鍛/屋屋銀銅銅銅銅鍛/屋金銅銅銅/屋銀銅銅...</td>\n",
       "      <td>5/2/3/6/6/6/5/8/8/8/8</td>\n",
       "      <td>1/2/0/0/0/0/2/0/0/0/0</td>\n",
       "      <td>0/0/1/2/3/3/4/4/5/5/6</td>\n",
       "    </tr>\n",
       "    <tr>\n",
       "      <th>16812</th>\n",
       "      <td>11</td>\n",
       "      <td>屋屋屋銅銅/銅銅銅銅銅/屋銅銅銅銅銅銅鍛/屋屋屋金銅銅銅鍛/屋銅銅銅銅/金金銅銅銅/屋屋属金...</td>\n",
       "      <td>2/5/6/6/4/9/6/6/8/8/8</td>\n",
       "      <td>2/1/0/0/1/1/0/0/0/0/0</td>\n",
       "      <td>0/0/1/2/3/3/4/4/5/5/6</td>\n",
       "    </tr>\n",
       "    <tr>\n",
       "      <th>19156</th>\n",
       "      <td>11</td>\n",
       "      <td>屋屋屋銅銅/銅銅銅銅銅/屋銅銅銅銅銅銅鍛/屋屋金銅銅/屋銅銅銅銅銅銅鍛/屋屋金銀銅/金銀銅銅...</td>\n",
       "      <td>2/5/6/5/6/6/8/10/9/4/8</td>\n",
       "      <td>2/1/0/2/0/0/0/2/1/1/0</td>\n",
       "      <td>0/0/1/2/3/3/4/4/5/5/6</td>\n",
       "    </tr>\n",
       "  </tbody>\n",
       "</table>\n",
       "</div>"
      ],
      "text/plain": [
       "       Turn                                               Hund  \\\n",
       "1248     11  銅銅銅銅銅/屋屋屋銅銅/屋屋屋銅銅銅銅鍛/屋銀銅銅銅銅銅鍛/屋屋銀銅銅/屋金銅銅銅銅銅鍛/銀...   \n",
       "4369     11  屋屋屋銅銅/銅銅銅銅銅/屋屋銅銅銅/屋銅銅銅銅銅銅鍛/屋屋銀銅銅/屋金銅銅銅銅銅鍛/金銀銅銅...   \n",
       "13079    11  銅銅銅銅銅/屋屋屋銅銅/屋屋銅銅銅/屋銅銅銅銅銅銅鍛/屋屋銀銅銅銅銅鍛/屋金銅銅銅/屋銀銅銅...   \n",
       "16812    11  屋屋屋銅銅/銅銅銅銅銅/屋銅銅銅銅銅銅鍛/屋屋屋金銅銅銅鍛/屋銅銅銅銅/金金銅銅銅/屋屋属金...   \n",
       "19156    11  屋屋屋銅銅/銅銅銅銅銅/屋銅銅銅銅銅銅鍛/屋屋金銅銅/屋銅銅銅銅銅銅鍛/屋屋金銀銅/金銀銅銅...   \n",
       "\n",
       "                        Money           UselessMoney                Refresh  \n",
       "1248    5/2/4/7/4/8/6/8/8/9/8  1/2/1/1/1/2/0/0/0/1/0  0/0/1/2/3/3/4/4/5/5/6  \n",
       "4369    2/5/3/6/4/8/8/8/1/8/8  2/1/0/0/1/2/0/0/1/0/0  0/0/1/2/3/3/4/4/5/5/6  \n",
       "13079   5/2/3/6/6/6/5/8/8/8/8  1/2/0/0/0/0/2/0/0/0/0  0/0/1/2/3/3/4/4/5/5/6  \n",
       "16812   2/5/6/6/4/9/6/6/8/8/8  2/1/0/0/1/1/0/0/0/0/0  0/0/1/2/3/3/4/4/5/5/6  \n",
       "19156  2/5/6/5/6/6/8/10/9/4/8  2/1/0/2/0/0/0/2/1/1/0  0/0/1/2/3/3/4/4/5/5/6  "
      ]
     },
     "execution_count": 16,
     "metadata": {},
     "output_type": "execute_result"
    }
   ],
   "source": [
    "smith_data25_haya = smith_data25[smith_data25[\"Turn\"] == 11]\n",
    "smith_data25_haya.head(5)"
   ]
  },
  {
   "cell_type": "code",
   "execution_count": 17,
   "metadata": {},
   "outputs": [
    {
     "data": {
      "text/html": [
       "<div>\n",
       "<style scoped>\n",
       "    .dataframe tbody tr th:only-of-type {\n",
       "        vertical-align: middle;\n",
       "    }\n",
       "\n",
       "    .dataframe tbody tr th {\n",
       "        vertical-align: top;\n",
       "    }\n",
       "\n",
       "    .dataframe thead th {\n",
       "        text-align: right;\n",
       "    }\n",
       "</style>\n",
       "<table border=\"1\" class=\"dataframe\">\n",
       "  <thead>\n",
       "    <tr style=\"text-align: right;\">\n",
       "      <th></th>\n",
       "      <th>Turn</th>\n",
       "      <th>Hund</th>\n",
       "      <th>Money</th>\n",
       "      <th>UselessMoney</th>\n",
       "      <th>Refresh</th>\n",
       "    </tr>\n",
       "  </thead>\n",
       "  <tbody>\n",
       "    <tr>\n",
       "      <th>16</th>\n",
       "      <td>19</td>\n",
       "      <td>屋屋銅銅銅/屋銅銅銅銅/屋屋銅銅銅銅銅鍛/屋銀銅銅銅/屋屋銀銅銅銅銅鍛/屋銀銅銅銅/屋金銀銅...</td>\n",
       "      <td>3/4/5/5/6/5/7/6/8/12/5/5/7/11/6/7/7/6/8</td>\n",
       "      <td>0/0/2/2/0/2/1/0/0/4/2/2/1/3/0/1/1/0/0</td>\n",
       "      <td>0/0/1/2/2/3/3/4/4/5/5/5/6/6/6/7/7/7/7</td>\n",
       "    </tr>\n",
       "    <tr>\n",
       "      <th>142</th>\n",
       "      <td>19</td>\n",
       "      <td>屋銅銅銅銅/屋屋銅銅銅/屋屋銅銅銅銅銅鍛/屋銀銅銅銅/屋屋銀銅銅/銀銀銀銅銅銅銅鍛/屋屋銅銅...</td>\n",
       "      <td>4/3/5/5/4/10/3/7/9/5/7/9/5/4/15/4/7/7/8</td>\n",
       "      <td>0/0/2/2/1/4/0/1/1/2/1/1/2/1/7/1/1/1/0</td>\n",
       "      <td>0/0/1/2/2/3/3/4/4/5/5/5/6/6/6/7/7/7/7</td>\n",
       "    </tr>\n",
       "    <tr>\n",
       "      <th>171</th>\n",
       "      <td>19</td>\n",
       "      <td>屋銅銅銅銅/屋屋銅銅銅/屋屋銀銅銅/屋銅銅銅銅/屋屋銅銅銅銅銅鍛/屋銀銀銅銅/屋金銀銅銅/屋...</td>\n",
       "      <td>4/3/4/4/5/6/7/9/5/5/11/9/7/5/7/5/6/6/15</td>\n",
       "      <td>0/0/1/1/2/0/1/1/2/2/3/1/1/2/1/2/0/0/7</td>\n",
       "      <td>0/0/1/1/2/2/3/3/4/4/4/5/5/5/6/6/6/6/7</td>\n",
       "    </tr>\n",
       "    <tr>\n",
       "      <th>197</th>\n",
       "      <td>19</td>\n",
       "      <td>屋銅銅銅銅/屋屋銅銅銅/屋屋銅銅銅/屋屋銀銅銅銅銅鍛/屋銀銅銅銅/屋銀銅銅銅/屋屋銀銅銅/屋...</td>\n",
       "      <td>4/3/3/6/5/5/4/11/5/6/8/5/9/6/6/10/6/6/11</td>\n",
       "      <td>0/0/0/0/2/2/1/5/2/0/0/2/1/0/0/2/0/0/3</td>\n",
       "      <td>0/0/1/2/2/3/3/4/4/5/5/5/6/6/6/7/7/7/7</td>\n",
       "    </tr>\n",
       "    <tr>\n",
       "      <th>203</th>\n",
       "      <td>19</td>\n",
       "      <td>屋屋銅銅銅/屋銅銅銅銅/屋屋銅銅銅銅銅鍛/屋銀銅銅銅/屋銅銅銅銅/屋銀銀銅銅銅銅鍛/屋屋銀銅...</td>\n",
       "      <td>3/4/5/5/4/8/4/9/5/7/6/9/6/6/11/11/6/6/12</td>\n",
       "      <td>0/0/2/2/1/2/1/3/2/1/0/1/0/0/3/3/0/0/4</td>\n",
       "      <td>0/0/1/2/2/3/3/4/4/5/5/5/6/6/6/7/7/7/7</td>\n",
       "    </tr>\n",
       "  </tbody>\n",
       "</table>\n",
       "</div>"
      ],
      "text/plain": [
       "     Turn                                               Hund  \\\n",
       "16     19  屋屋銅銅銅/屋銅銅銅銅/屋屋銅銅銅銅銅鍛/屋銀銅銅銅/屋屋銀銅銅銅銅鍛/屋銀銅銅銅/屋金銀銅...   \n",
       "142    19  屋銅銅銅銅/屋屋銅銅銅/屋屋銅銅銅銅銅鍛/屋銀銅銅銅/屋屋銀銅銅/銀銀銀銅銅銅銅鍛/屋屋銅銅...   \n",
       "171    19  屋銅銅銅銅/屋屋銅銅銅/屋屋銀銅銅/屋銅銅銅銅/屋屋銅銅銅銅銅鍛/屋銀銀銅銅/屋金銀銅銅/屋...   \n",
       "197    19  屋銅銅銅銅/屋屋銅銅銅/屋屋銅銅銅/屋屋銀銅銅銅銅鍛/屋銀銅銅銅/屋銀銅銅銅/屋屋銀銅銅/屋...   \n",
       "203    19  屋屋銅銅銅/屋銅銅銅銅/屋屋銅銅銅銅銅鍛/屋銀銅銅銅/屋銅銅銅銅/屋銀銀銅銅銅銅鍛/屋屋銀銅...   \n",
       "\n",
       "                                        Money  \\\n",
       "16    3/4/5/5/6/5/7/6/8/12/5/5/7/11/6/7/7/6/8   \n",
       "142   4/3/5/5/4/10/3/7/9/5/7/9/5/4/15/4/7/7/8   \n",
       "171   4/3/4/4/5/6/7/9/5/5/11/9/7/5/7/5/6/6/15   \n",
       "197  4/3/3/6/5/5/4/11/5/6/8/5/9/6/6/10/6/6/11   \n",
       "203  3/4/5/5/4/8/4/9/5/7/6/9/6/6/11/11/6/6/12   \n",
       "\n",
       "                              UselessMoney  \\\n",
       "16   0/0/2/2/0/2/1/0/0/4/2/2/1/3/0/1/1/0/0   \n",
       "142  0/0/2/2/1/4/0/1/1/2/1/1/2/1/7/1/1/1/0   \n",
       "171  0/0/1/1/2/0/1/1/2/2/3/1/1/2/1/2/0/0/7   \n",
       "197  0/0/0/0/2/2/1/5/2/0/0/2/1/0/0/2/0/0/3   \n",
       "203  0/0/2/2/1/2/1/3/2/1/0/1/0/0/3/3/0/0/4   \n",
       "\n",
       "                                   Refresh  \n",
       "16   0/0/1/2/2/3/3/4/4/5/5/5/6/6/6/7/7/7/7  \n",
       "142  0/0/1/2/2/3/3/4/4/5/5/5/6/6/6/7/7/7/7  \n",
       "171  0/0/1/1/2/2/3/3/4/4/4/5/5/5/6/6/6/6/7  \n",
       "197  0/0/1/2/2/3/3/4/4/5/5/5/6/6/6/7/7/7/7  \n",
       "203  0/0/1/2/2/3/3/4/4/5/5/5/6/6/6/7/7/7/7  "
      ]
     },
     "execution_count": 17,
     "metadata": {},
     "output_type": "execute_result"
    }
   ],
   "source": [
    "smith_data34_oso = smith_data34[smith_data34[\"Turn\"] == 19]\n",
    "smith_data34_oso.head(5)"
   ]
  },
  {
   "cell_type": "code",
   "execution_count": null,
   "metadata": {},
   "outputs": [],
   "source": []
  }
 ],
 "metadata": {
  "kernelspec": {
   "display_name": "Python 3",
   "language": "python",
   "name": "python3"
  },
  "language_info": {
   "codemirror_mode": {
    "name": "ipython",
    "version": 3
   },
   "file_extension": ".py",
   "mimetype": "text/x-python",
   "name": "python",
   "nbconvert_exporter": "python",
   "pygments_lexer": "ipython3",
   "version": "3.6.5"
  }
 },
 "nbformat": 4,
 "nbformat_minor": 2
}
