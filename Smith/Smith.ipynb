{
 "cells": [
  {
   "cell_type": "code",
   "execution_count": 1,
   "metadata": {},
   "outputs": [],
   "source": [
    "import numpy as np\n",
    "import pandas as pd\n",
    "import matplotlib.pyplot as plt"
   ]
  },
  {
   "cell_type": "code",
   "execution_count": 2,
   "metadata": {
    "scrolled": true
   },
   "outputs": [
    {
     "data": {
      "text/html": [
       "<div>\n",
       "<style scoped>\n",
       "    .dataframe tbody tr th:only-of-type {\n",
       "        vertical-align: middle;\n",
       "    }\n",
       "\n",
       "    .dataframe tbody tr th {\n",
       "        vertical-align: top;\n",
       "    }\n",
       "\n",
       "    .dataframe thead th {\n",
       "        text-align: right;\n",
       "    }\n",
       "</style>\n",
       "<table border=\"1\" class=\"dataframe\">\n",
       "  <thead>\n",
       "    <tr style=\"text-align: right;\">\n",
       "      <th></th>\n",
       "      <th>Turn</th>\n",
       "      <th>Hund</th>\n",
       "      <th>UselessMoney</th>\n",
       "    </tr>\n",
       "  </thead>\n",
       "  <tbody>\n",
       "    <tr>\n",
       "      <th>0</th>\n",
       "      <td>14</td>\n",
       "      <td>屋屋銅銅銅/屋銅銅銅銅/屋屋銅銅銅/屋銀銅銅銅銅銅鍛/屋屋銀銅銅/屋銀銅銅銅銅銅鍛/屋金銀銅...</td>\n",
       "      <td>0/0/0/1/1/1/1/3/1/0/2/3/0/1</td>\n",
       "    </tr>\n",
       "    <tr>\n",
       "      <th>1</th>\n",
       "      <td>12</td>\n",
       "      <td>屋銅銅銅銅/屋屋銅銅銅/屋屋銀銅銅銅銅鍛/屋銅銅銅銅/屋屋金銀銅銅銅鍛/屋屋金銀銅銅銅鍛/屋...</td>\n",
       "      <td>0/0/0/1/2/0/1/1/2/1/2/0</td>\n",
       "    </tr>\n",
       "    <tr>\n",
       "      <th>2</th>\n",
       "      <td>17</td>\n",
       "      <td>屋銅銅銅銅/屋屋銅銅銅/屋銅銅銅銅/屋屋銀銅銅銅銅鍛/屋銀銅銅銅/屋銀銀銅銅/屋屋銀銅銅銅銅...</td>\n",
       "      <td>0/0/1/0/2/0/0/0/3/1/3/1/1/3/0/0/7</td>\n",
       "    </tr>\n",
       "    <tr>\n",
       "      <th>3</th>\n",
       "      <td>13</td>\n",
       "      <td>屋銅銅銅銅/屋屋銅銅銅/銀銅銅銅銅/屋屋屋金銅銅銅鍛/銀銅銅銅銅/金金銀銅銅/屋屋屋金銅銅銅...</td>\n",
       "      <td>0/0/0/0/0/2/0/3/2/1/2/0/1</td>\n",
       "    </tr>\n",
       "    <tr>\n",
       "      <th>4</th>\n",
       "      <td>13</td>\n",
       "      <td>屋屋銅銅銅/屋銅銅銅銅/屋屋銀銅銅銅銅鍛/屋銅銅銅銅/屋屋金銀銅銅銅鍛/屋屋銅銅銅/金銀銅銅...</td>\n",
       "      <td>0/0/0/1/2/0/0/1/1/0/0/1/1</td>\n",
       "    </tr>\n",
       "  </tbody>\n",
       "</table>\n",
       "</div>"
      ],
      "text/plain": [
       "   Turn                                               Hund  \\\n",
       "0    14  屋屋銅銅銅/屋銅銅銅銅/屋屋銅銅銅/屋銀銅銅銅銅銅鍛/屋屋銀銅銅/屋銀銅銅銅銅銅鍛/屋金銀銅...   \n",
       "1    12  屋銅銅銅銅/屋屋銅銅銅/屋屋銀銅銅銅銅鍛/屋銅銅銅銅/屋屋金銀銅銅銅鍛/屋屋金銀銅銅銅鍛/屋...   \n",
       "2    17  屋銅銅銅銅/屋屋銅銅銅/屋銅銅銅銅/屋屋銀銅銅銅銅鍛/屋銀銅銅銅/屋銀銀銅銅/屋屋銀銅銅銅銅...   \n",
       "3    13  屋銅銅銅銅/屋屋銅銅銅/銀銅銅銅銅/屋屋屋金銅銅銅鍛/銀銅銅銅銅/金金銀銅銅/屋屋屋金銅銅銅...   \n",
       "4    13  屋屋銅銅銅/屋銅銅銅銅/屋屋銀銅銅銅銅鍛/屋銅銅銅銅/屋屋金銀銅銅銅鍛/屋屋銅銅銅/金銀銅銅...   \n",
       "\n",
       "                        UselessMoney  \n",
       "0        0/0/0/1/1/1/1/3/1/0/2/3/0/1  \n",
       "1            0/0/0/1/2/0/1/1/2/1/2/0  \n",
       "2  0/0/1/0/2/0/0/0/3/1/3/1/1/3/0/0/7  \n",
       "3          0/0/0/0/0/2/0/3/2/1/2/0/1  \n",
       "4          0/0/0/1/2/0/0/1/1/0/0/1/1  "
      ]
     },
     "execution_count": 2,
     "metadata": {},
     "output_type": "execute_result"
    }
   ],
   "source": [
    "smith_data = pd.read_csv('./TestProgramSmith.csv', header=0, index_col=0)\n",
    "smith_data.head()"
   ]
  },
  {
   "cell_type": "code",
   "execution_count": 3,
   "metadata": {},
   "outputs": [],
   "source": [
    "smith_data34 = smith_data[smith_data[\"Hund\"].str.startswith(\"屋屋銅銅銅/\", \"屋銅銅銅銅/\")]\n",
    "smith_data25 = smith_data[smith_data[\"Hund\"].str.startswith(\"銅銅銅銅銅/\", \"屋屋屋銅銅/\")]"
   ]
  },
  {
   "cell_type": "code",
   "execution_count": 4,
   "metadata": {},
   "outputs": [
    {
     "data": {
      "text/plain": [
       "(count    4149.000000\n",
       " mean       15.847674\n",
       " std         1.701418\n",
       " min        11.000000\n",
       " 25%        15.000000\n",
       " 50%        16.000000\n",
       " 75%        17.000000\n",
       " max        23.000000\n",
       " Name: Turn, dtype: float64, count    20974.000000\n",
       " mean        14.833031\n",
       " std          1.676777\n",
       " min          9.000000\n",
       " 25%         14.000000\n",
       " 50%         15.000000\n",
       " 75%         16.000000\n",
       " max         23.000000\n",
       " Name: Turn, dtype: float64)"
      ]
     },
     "execution_count": 4,
     "metadata": {},
     "output_type": "execute_result"
    }
   ],
   "source": [
    "smith_data34_des = smith_data34[\"Turn\"].describe()\n",
    "smith_data25_des = smith_data25[\"Turn\"].describe()\n",
    "\n",
    "smith_data25_des, smith_data34_des"
   ]
  },
  {
   "cell_type": "code",
   "execution_count": 5,
   "metadata": {},
   "outputs": [
    {
     "data": {
      "text/plain": [
       "([array([0.        , 0.00098425, 0.01722441, 0.0492126 , 0.16904528,\n",
       "         0.19980315, 0.23228346, 0.19192913, 0.09645669, 0.04306102]),\n",
       "  array([0.00086232, 0.01576123, 0.04747533, 0.15943279, 0.21629779,\n",
       "         0.2267414 , 0.18376928, 0.09466322, 0.04019354, 0.0148031 ])],\n",
       " array([ 9.5, 10.5, 11.5, 12.5, 13.5, 14.5, 15.5, 16.5, 17.5, 18.5, 19.5]),\n",
       " <a list of 2 Lists of Patches objects>)"
      ]
     },
     "execution_count": 5,
     "metadata": {},
     "output_type": "execute_result"
    },
    {
     "data": {
      "image/png": "[encoded data removed]",
      "text/plain": [
       "<Figure size 432x288 with 1 Axes>"
      ]
     },
     "metadata": {},
     "output_type": "display_data"
    }
   ],
   "source": [
    "plt.hist([smith_data25[\"Turn\"],smith_data34[\"Turn\"]],bins=10, range=(9.5,19.5), density=True, rwidth=0.5)"
   ]
  },
  {
   "cell_type": "code",
   "execution_count": 6,
   "metadata": {},
   "outputs": [],
   "source": [
    "smith_data_sizumi = smith_data[smith_data[\"Hund\"].str.find(\"鍛\") == 31]\n",
    "smith_data_sizumazu = smith_data[smith_data[\"Hund\"].str.find(\"鍛\") != 31]"
   ]
  },
  {
   "cell_type": "code",
   "execution_count": 7,
   "metadata": {},
   "outputs": [
    {
     "data": {
      "text/plain": [
       "(count    7715.000000\n",
       " mean       15.357874\n",
       " std         1.675631\n",
       " min        10.000000\n",
       " 25%        14.000000\n",
       " 50%        15.000000\n",
       " 75%        16.000000\n",
       " max        22.000000\n",
       " Name: Turn, dtype: float64, count    42285.000000\n",
       " mean        14.937519\n",
       " std          1.722500\n",
       " min          9.000000\n",
       " 25%         14.000000\n",
       " 50%         15.000000\n",
       " 75%         16.000000\n",
       " max         23.000000\n",
       " Name: Turn, dtype: float64)"
      ]
     },
     "execution_count": 7,
     "metadata": {},
     "output_type": "execute_result"
    }
   ],
   "source": [
    "smith_data_sizumi_des = smith_data_sizumi[\"Turn\"].describe()\n",
    "smith_data_sizumazu_des = smith_data_sizumazu[\"Turn\"].describe()\n",
    "\n",
    "smith_data_sizumi_des, smith_data_sizumazu_des"
   ]
  },
  {
   "cell_type": "code",
   "execution_count": 8,
   "metadata": {},
   "outputs": [
    {
     "data": {
      "text/plain": [
       "([array([1.30958617e-04, 1.04766894e-03, 3.44421163e-02, 9.82189628e-02,\n",
       "         1.76008381e-01, 2.51964379e-01, 2.08093243e-01, 1.34887376e-01,\n",
       "         7.16343635e-02, 2.35725511e-02]),\n",
       "  array([0.00078586, 0.01569347, 0.04346066, 0.15005239, 0.21265955,\n",
       "         0.21854163, 0.19058392, 0.1038293 , 0.0450562 , 0.01933702])],\n",
       " array([ 9.5, 10.5, 11.5, 12.5, 13.5, 14.5, 15.5, 16.5, 17.5, 18.5, 19.5]),\n",
       " <a list of 2 Lists of Patches objects>)"
      ]
     },
     "execution_count": 8,
     "metadata": {},
     "output_type": "execute_result"
    },
    {
     "data": {
      "image/png": "[encoded data removed]",
      "text/plain": [
       "<Figure size 432x288 with 1 Axes>"
      ]
     },
     "metadata": {},
     "output_type": "display_data"
    }
   ],
   "source": [
    "plt.hist([smith_data_sizumi[\"Turn\"],smith_data_sizumazu[\"Turn\"]],bins=10, range=(9.5,19.5), density=True, rwidth=0.5)"
   ]
  },
  {
   "cell_type": "code",
   "execution_count": null,
   "metadata": {},
   "outputs": [],
   "source": []
  }
 ],
 "metadata": {
  "kernelspec": {
   "display_name": "Python 3",
   "language": "python",
   "name": "python3"
  },
  "language_info": {
   "codemirror_mode": {
    "name": "ipython",
    "version": 3
   },
   "file_extension": ".py",
   "mimetype": "text/x-python",
   "name": "python",
   "nbconvert_exporter": "python",
   "pygments_lexer": "ipython3",
   "version": "3.6.5"
  }
 },
 "nbformat": 4,
 "nbformat_minor": 2
}
