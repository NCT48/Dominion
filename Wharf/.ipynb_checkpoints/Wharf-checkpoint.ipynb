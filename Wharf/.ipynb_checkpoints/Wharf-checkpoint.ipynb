{
 "cells": [
  {
   "cell_type": "code",
   "execution_count": 18,
   "metadata": {},
   "outputs": [],
   "source": [
    "import numpy as np\n",
    "import pandas as pd\n",
    "import matplotlib.pyplot as plt"
   ]
  },
  {
   "cell_type": "code",
   "execution_count": 19,
   "metadata": {},
   "outputs": [
    {
     "data": {
      "text/html": [
       "<div>\n",
       "<style scoped>\n",
       "    .dataframe tbody tr th:only-of-type {\n",
       "        vertical-align: middle;\n",
       "    }\n",
       "\n",
       "    .dataframe tbody tr th {\n",
       "        vertical-align: top;\n",
       "    }\n",
       "\n",
       "    .dataframe thead th {\n",
       "        text-align: right;\n",
       "    }\n",
       "</style>\n",
       "<table border=\"1\" class=\"dataframe\">\n",
       "  <thead>\n",
       "    <tr style=\"text-align: right;\">\n",
       "      <th></th>\n",
       "      <th>Turn</th>\n",
       "      <th>Hund</th>\n",
       "      <th>UselessMoney</th>\n",
       "    </tr>\n",
       "  </thead>\n",
       "  <tbody>\n",
       "    <tr>\n",
       "      <th>0</th>\n",
       "      <td>14</td>\n",
       "      <td>屋屋銅銅銅/屋銅銅銅銅/屋銀銀銅銅/屋銅銅銅銅/屋銀銅銅銅/屋屋金銀銅/銀銅銅銅銅/屋金金銀...</td>\n",
       "      <td>0/1/0/1/0/0/0/0/1/1/2/1/0/0</td>\n",
       "    </tr>\n",
       "    <tr>\n",
       "      <th>1</th>\n",
       "      <td>15</td>\n",
       "      <td>屋銅銅銅銅/屋屋銅銅銅/銀銀銅銅銅/屋屋屋銅銅/屋銀銅銅銅/屋屋金銅銅/銀銅銅銅銅/屋屋船金...</td>\n",
       "      <td>1/0/1/2/0/0/0/0/0/2/0/1/0/1/1</td>\n",
       "    </tr>\n",
       "    <tr>\n",
       "      <th>2</th>\n",
       "      <td>15</td>\n",
       "      <td>屋銅銅銅銅/屋屋銅銅銅/銀銀銅銅銅/屋屋屋銅銅/屋銀銅銅銅/屋屋金銅銅/銀銅銅銅銅/屋屋船金...</td>\n",
       "      <td>1/0/1/2/0/0/0/0/0/2/0/1/0/1/1</td>\n",
       "    </tr>\n",
       "    <tr>\n",
       "      <th>3</th>\n",
       "      <td>15</td>\n",
       "      <td>屋銅銅銅銅/屋屋銅銅銅/銀銀銅銅銅/屋屋屋銅銅/屋銀銅銅銅/屋屋金銅銅/銀銅銅銅銅/屋屋船金...</td>\n",
       "      <td>1/0/1/2/0/0/0/0/0/2/0/1/0/1/1</td>\n",
       "    </tr>\n",
       "    <tr>\n",
       "      <th>4</th>\n",
       "      <td>15</td>\n",
       "      <td>屋銅銅銅銅/屋屋銅銅銅/銀銀銅銅銅/屋屋屋銅銅/屋銀銅銅銅/屋屋金銅銅/銀銅銅銅銅/屋屋船金...</td>\n",
       "      <td>1/0/1/2/0/0/0/0/0/2/0/1/0/1/1</td>\n",
       "    </tr>\n",
       "  </tbody>\n",
       "</table>\n",
       "</div>"
      ],
      "text/plain": [
       "   Turn                                               Hund  \\\n",
       "0    14  屋屋銅銅銅/屋銅銅銅銅/屋銀銀銅銅/屋銅銅銅銅/屋銀銅銅銅/屋屋金銀銅/銀銅銅銅銅/屋金金銀...   \n",
       "1    15  屋銅銅銅銅/屋屋銅銅銅/銀銀銅銅銅/屋屋屋銅銅/屋銀銅銅銅/屋屋金銅銅/銀銅銅銅銅/屋屋船金...   \n",
       "2    15  屋銅銅銅銅/屋屋銅銅銅/銀銀銅銅銅/屋屋屋銅銅/屋銀銅銅銅/屋屋金銅銅/銀銅銅銅銅/屋屋船金...   \n",
       "3    15  屋銅銅銅銅/屋屋銅銅銅/銀銀銅銅銅/屋屋屋銅銅/屋銀銅銅銅/屋屋金銅銅/銀銅銅銅銅/屋屋船金...   \n",
       "4    15  屋銅銅銅銅/屋屋銅銅銅/銀銀銅銅銅/屋屋屋銅銅/屋銀銅銅銅/屋屋金銅銅/銀銅銅銅銅/屋屋船金...   \n",
       "\n",
       "                    UselessMoney  \n",
       "0    0/1/0/1/0/0/0/0/1/1/2/1/0/0  \n",
       "1  1/0/1/2/0/0/0/0/0/2/0/1/0/1/1  \n",
       "2  1/0/1/2/0/0/0/0/0/2/0/1/0/1/1  \n",
       "3  1/0/1/2/0/0/0/0/0/2/0/1/0/1/1  \n",
       "4  1/0/1/2/0/0/0/0/0/2/0/1/0/1/1  "
      ]
     },
     "execution_count": 19,
     "metadata": {},
     "output_type": "execute_result"
    }
   ],
   "source": [
    "wharf_data = pd.read_csv('./TestProgramWharf.csv', header=0, index_col=0)\n",
    "wharf_data.head()"
   ]
  },
  {
   "cell_type": "code",
   "execution_count": 20,
   "metadata": {},
   "outputs": [],
   "source": [
    "wharf_data34 = wharf_data[wharf_data[\"Hund\"].str.startswith(\"屋屋銅銅銅/\", \"屋銅銅銅銅/\")]\n",
    "wharf_data25 = wharf_data[wharf_data[\"Hund\"].str.startswith(\"銅銅銅銅銅/\", \"屋屋屋銅銅/\")]"
   ]
  },
  {
   "cell_type": "code",
   "execution_count": 21,
   "metadata": {},
   "outputs": [
    {
     "data": {
      "text/plain": [
       "(count    4042.000000\n",
       " mean       13.809748\n",
       " std         2.057975\n",
       " min        11.000000\n",
       " 25%        12.000000\n",
       " 50%        14.000000\n",
       " 75%        15.000000\n",
       " max        30.000000\n",
       " Name: Turn, dtype: float64, count    21064.000000\n",
       " mean        14.104206\n",
       " std          1.543161\n",
       " min         10.000000\n",
       " 25%         13.000000\n",
       " 50%         14.000000\n",
       " 75%         15.000000\n",
       " max         19.000000\n",
       " Name: Turn, dtype: float64)"
      ]
     },
     "execution_count": 21,
     "metadata": {},
     "output_type": "execute_result"
    }
   ],
   "source": [
    "wharf_data34_des = wharf_data34[\"Turn\"].describe()\n",
    "wharf_data25_des = wharf_data25[\"Turn\"].describe()\n",
    "\n",
    "wharf_data25_des, wharf_data34_des"
   ]
  },
  {
   "cell_type": "code",
   "execution_count": 22,
   "metadata": {},
   "outputs": [
    {
     "data": {
      "text/plain": [
       "([array([0.        , 0.08201655, 0.17456734, 0.2284926 , 0.22498119,\n",
       "         0.15575621, 0.08076248, 0.05317281, 0.00025082]),\n",
       "  array([0.00930857, 0.01525838, 0.14135598, 0.16107672, 0.29888201,\n",
       "         0.2318027 , 0.09284583, 0.03675447, 0.01271532])],\n",
       " array([ 9.5, 10.5, 11.5, 12.5, 13.5, 14.5, 15.5, 16.5, 17.5, 18.5]),\n",
       " <a list of 2 Lists of Patches objects>)"
      ]
     },
     "execution_count": 22,
     "metadata": {},
     "output_type": "execute_result"
    },
    {
     "data": {
      "image/png": "[encoded data removed]",
      "text/plain": [
       "<Figure size 432x288 with 1 Axes>"
      ]
     },
     "metadata": {},
     "output_type": "display_data"
    }
   ],
   "source": [
    "plt.hist([wharf_data25[\"Turn\"],wharf_data34[\"Turn\"]],bins=9, range=(9.5,18.5), density=True, rwidth=0.5)"
   ]
  },
  {
   "cell_type": "code",
   "execution_count": 25,
   "metadata": {},
   "outputs": [],
   "source": [
    "wharf_data_sizumi = wharf_data[wharf_data[\"Hund\"].str.find(\"手\") == 30]\n",
    "wharf_data_sizumazu = wharf_data[wharf_data[\"Hund\"].str.find(\"手\") != 30]"
   ]
  },
  {
   "cell_type": "code",
   "execution_count": 30,
   "metadata": {},
   "outputs": [
    {
     "data": {
      "text/plain": [
       "(count    50000.000000\n",
       " mean        14.015900\n",
       " std          1.612507\n",
       " min         10.000000\n",
       " 25%         13.000000\n",
       " 50%         14.000000\n",
       " 75%         15.000000\n",
       " max         30.000000\n",
       " Name: Turn, dtype: float64, '\\n', count    50000.000000\n",
       " mean        14.015900\n",
       " std          1.612507\n",
       " min         10.000000\n",
       " 25%         13.000000\n",
       " 50%         14.000000\n",
       " 75%         15.000000\n",
       " max         30.000000\n",
       " Name: Turn, dtype: float64)"
      ]
     },
     "execution_count": 30,
     "metadata": {},
     "output_type": "execute_result"
    }
   ],
   "source": [
    "wharf_data_sizumi_des = wharf_data[\"Turn\"].describe()\n",
    "wharf_data_sizumazu_des = wharf_data[\"Turn\"].describe()\n",
    "\n",
    "wharf_data_sizumi_des, wharf_data_sizumazu_des"
   ]
  },
  {
   "cell_type": "code",
   "execution_count": null,
   "metadata": {},
   "outputs": [],
   "source": []
  }
 ],
 "metadata": {
  "kernelspec": {
   "display_name": "Python 3",
   "language": "python",
   "name": "python3"
  },
  "language_info": {
   "codemirror_mode": {
    "name": "ipython",
    "version": 3
   },
   "file_extension": ".py",
   "mimetype": "text/x-python",
   "name": "python",
   "nbconvert_exporter": "python",
   "pygments_lexer": "ipython3",
   "version": "3.6.5"
  }
 },
 "nbformat": 4,
 "nbformat_minor": 2
}
