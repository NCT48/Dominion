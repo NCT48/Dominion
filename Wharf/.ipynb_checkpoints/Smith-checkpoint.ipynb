{
 "cells": [
  {
   "cell_type": "code",
   "execution_count": 1,
   "metadata": {},
   "outputs": [],
   "source": [
    "import numpy as np\n",
    "import pandas as pd\n",
    "import matplotlib.pyplot as plt"
   ]
  },
  {
   "cell_type": "code",
   "execution_count": 2,
   "metadata": {
    "scrolled": true
   },
   "outputs": [
    {
     "data": {
      "text/html": [
       "<div>\n",
       "<style scoped>\n",
       "    .dataframe tbody tr th:only-of-type {\n",
       "        vertical-align: middle;\n",
       "    }\n",
       "\n",
       "    .dataframe tbody tr th {\n",
       "        vertical-align: top;\n",
       "    }\n",
       "\n",
       "    .dataframe thead th {\n",
       "        text-align: right;\n",
       "    }\n",
       "</style>\n",
       "<table border=\"1\" class=\"dataframe\">\n",
       "  <thead>\n",
       "    <tr style=\"text-align: right;\">\n",
       "      <th></th>\n",
       "      <th>Turn</th>\n",
       "      <th>Hund</th>\n",
       "      <th>UselessMoney</th>\n",
       "    </tr>\n",
       "    <tr>\n",
       "      <th>ID</th>\n",
       "      <th></th>\n",
       "      <th></th>\n",
       "      <th></th>\n",
       "    </tr>\n",
       "  </thead>\n",
       "  <tbody>\n",
       "    <tr>\n",
       "      <th>0</th>\n",
       "      <td>14</td>\n",
       "      <td>屋屋銅銅銅/屋銅銅銅銅/銅銅銅銅銅/屋屋屋銅銅/屋屋銀銅銅銅銅鍛/屋銀銅銅銅/屋屋銀銅銅/屋...</td>\n",
       "      <td>0/0/2/2/0/2/1/1/1/1/2/1/0/0</td>\n",
       "    </tr>\n",
       "    <tr>\n",
       "      <th>1</th>\n",
       "      <td>15</td>\n",
       "      <td>屋屋屋銅銅/銅銅銅銅銅/屋銅銅銅銅/屋屋屋銅銅銅銅鍛/屋銀銅銅銅/屋銀銅銅銅/屋屋銀銅銅銅銅...</td>\n",
       "      <td>2/1/1/1/2/2/0/2/1/1/2/0/0/0/1</td>\n",
       "    </tr>\n",
       "    <tr>\n",
       "      <th>2</th>\n",
       "      <td>15</td>\n",
       "      <td>屋屋屋銅銅/銅銅銅銅銅/屋銅銅銅銅/屋屋屋銅銅銅銅鍛/屋銀銅銅銅/屋銀銅銅銅/屋屋銀銅銅銅銅...</td>\n",
       "      <td>2/1/1/1/2/2/0/2/1/1/2/0/0/0/1</td>\n",
       "    </tr>\n",
       "    <tr>\n",
       "      <th>3</th>\n",
       "      <td>15</td>\n",
       "      <td>屋屋屋銅銅/銅銅銅銅銅/屋銅銅銅銅/屋屋屋銅銅銅銅鍛/屋銀銅銅銅/屋銀銅銅銅/屋屋銀銅銅銅銅...</td>\n",
       "      <td>2/1/1/1/2/2/0/2/1/1/2/0/0/0/1</td>\n",
       "    </tr>\n",
       "    <tr>\n",
       "      <th>4</th>\n",
       "      <td>15</td>\n",
       "      <td>屋屋屋銅銅/銅銅銅銅銅/屋銅銅銅銅/屋屋屋銅銅銅銅鍛/屋銀銅銅銅/屋銀銅銅銅/屋屋銀銅銅銅銅...</td>\n",
       "      <td>2/1/1/1/2/2/0/2/1/1/2/0/0/0/1</td>\n",
       "    </tr>\n",
       "  </tbody>\n",
       "</table>\n",
       "</div>"
      ],
      "text/plain": [
       "    Turn                                               Hund  \\\n",
       "ID                                                            \n",
       "0     14  屋屋銅銅銅/屋銅銅銅銅/銅銅銅銅銅/屋屋屋銅銅/屋屋銀銅銅銅銅鍛/屋銀銅銅銅/屋屋銀銅銅/屋...   \n",
       "1     15  屋屋屋銅銅/銅銅銅銅銅/屋銅銅銅銅/屋屋屋銅銅銅銅鍛/屋銀銅銅銅/屋銀銅銅銅/屋屋銀銅銅銅銅...   \n",
       "2     15  屋屋屋銅銅/銅銅銅銅銅/屋銅銅銅銅/屋屋屋銅銅銅銅鍛/屋銀銅銅銅/屋銀銅銅銅/屋屋銀銅銅銅銅...   \n",
       "3     15  屋屋屋銅銅/銅銅銅銅銅/屋銅銅銅銅/屋屋屋銅銅銅銅鍛/屋銀銅銅銅/屋銀銅銅銅/屋屋銀銅銅銅銅...   \n",
       "4     15  屋屋屋銅銅/銅銅銅銅銅/屋銅銅銅銅/屋屋屋銅銅銅銅鍛/屋銀銅銅銅/屋銀銅銅銅/屋屋銀銅銅銅銅...   \n",
       "\n",
       "                     UselessMoney  \n",
       "ID                                 \n",
       "0     0/0/2/2/0/2/1/1/1/1/2/1/0/0  \n",
       "1   2/1/1/1/2/2/0/2/1/1/2/0/0/0/1  \n",
       "2   2/1/1/1/2/2/0/2/1/1/2/0/0/0/1  \n",
       "3   2/1/1/1/2/2/0/2/1/1/2/0/0/0/1  \n",
       "4   2/1/1/1/2/2/0/2/1/1/2/0/0/0/1  "
      ]
     },
     "execution_count": 2,
     "metadata": {},
     "output_type": "execute_result"
    }
   ],
   "source": [
    "smith_data = pd.read_csv('./TestProgramSmith.csv', header=0, index_col=0)\n",
    "smith_data.head()"
   ]
  },
  {
   "cell_type": "code",
   "execution_count": 3,
   "metadata": {},
   "outputs": [],
   "source": [
    "smith_data34 = smith_data[smith_data[\"Hund\"].str.startswith(\"屋屋銅銅銅/\", \"屋銅銅銅銅/\")]\n",
    "smith_data25 = smith_data[smith_data[\"Hund\"].str.startswith(\"銅銅銅銅銅/\", \"屋屋屋銅銅/\")]"
   ]
  },
  {
   "cell_type": "code",
   "execution_count": 4,
   "metadata": {},
   "outputs": [
    {
     "data": {
      "text/plain": [
       "(count    3621.000000\n",
       " mean       15.080365\n",
       " std         1.625387\n",
       " min        11.000000\n",
       " 25%        14.000000\n",
       " 50%        15.000000\n",
       " 75%        16.000000\n",
       " max        19.000000\n",
       " Name: Turn, dtype: float64, count    21095.000000\n",
       " mean        14.497037\n",
       " std          1.621119\n",
       " min         10.000000\n",
       " 25%         13.000000\n",
       " 50%         14.000000\n",
       " 75%         16.000000\n",
       " max         19.000000\n",
       " Name: Turn, dtype: float64)"
      ]
     },
     "execution_count": 4,
     "metadata": {},
     "output_type": "execute_result"
    }
   ],
   "source": [
    "smith_data34_des = smith_data34[\"Turn\"].describe()\n",
    "smith_data25_des = smith_data25[\"Turn\"].describe()\n",
    "\n",
    "smith_data25_des, smith_data34_des"
   ]
  },
  {
   "cell_type": "code",
   "execution_count": 5,
   "metadata": {},
   "outputs": [
    {
     "data": {
      "text/plain": [
       "([array([0.00000000e+00, 2.76166805e-04, 3.47970174e-02, 1.06048053e-01,\n",
       "         2.95774648e-01, 1.76470588e-01, 1.80336924e-01, 1.55758078e-01,\n",
       "         2.76166805e-04, 5.02623585e-02]),\n",
       "  array([0.00739512, 0.0206684 , 0.05930315, 0.17297938, 0.27575255,\n",
       "         0.21166153, 0.1391799 , 0.07077507, 0.03356246, 0.00872245])],\n",
       " array([ 9.5, 10.5, 11.5, 12.5, 13.5, 14.5, 15.5, 16.5, 17.5, 18.5, 19.5]),\n",
       " <a list of 2 Lists of Patches objects>)"
      ]
     },
     "execution_count": 5,
     "metadata": {},
     "output_type": "execute_result"
    },
    {
     "data": {
      "image/png": "[encoded data removed]",
      "text/plain": [
       "<Figure size 432x288 with 1 Axes>"
      ]
     },
     "metadata": {},
     "output_type": "display_data"
    }
   ],
   "source": [
    "plt.hist([smith_data25[\"Turn\"],smith_data34[\"Turn\"]],bins=10, range=(9.5,19.5), density=True, rwidth=0.5)"
   ]
  },
  {
   "cell_type": "code",
   "execution_count": 6,
   "metadata": {},
   "outputs": [],
   "source": [
    "smith_data_sizumi = smith_data[smith_data[\"Hund\"].str.find(\"鍛\") == 31]\n",
    "smith_data_sizumazu = smith_data[smith_data[\"Hund\"].str.find(\"鍛\") != 31]"
   ]
  },
  {
   "cell_type": "code",
   "execution_count": 7,
   "metadata": {},
   "outputs": [
    {
     "data": {
      "text/plain": [
       "(count    7637.000000\n",
       " mean       14.868797\n",
       " std         1.595343\n",
       " min        12.000000\n",
       " 25%        14.000000\n",
       " 50%        15.000000\n",
       " 75%        16.000000\n",
       " max        19.000000\n",
       " Name: Turn, dtype: float64, count    42363.000000\n",
       " mean        14.624909\n",
       " std          1.656349\n",
       " min         10.000000\n",
       " 25%         14.000000\n",
       " 50%         15.000000\n",
       " 75%         16.000000\n",
       " max         21.000000\n",
       " Name: Turn, dtype: float64)"
      ]
     },
     "execution_count": 7,
     "metadata": {},
     "output_type": "execute_result"
    }
   ],
   "source": [
    "smith_data_sizumi_des = smith_data_sizumi[\"Turn\"].describe()\n",
    "smith_data_sizumazu_des = smith_data_sizumazu[\"Turn\"].describe()\n",
    "\n",
    "smith_data_sizumi_des, smith_data_sizumazu_des"
   ]
  },
  {
   "cell_type": "code",
   "execution_count": 8,
   "metadata": {},
   "outputs": [
    {
     "data": {
      "text/plain": [
       "([array([0.        , 0.        , 0.05512636, 0.16616472, 0.20007856,\n",
       "         0.24551525, 0.17192615, 0.10043211, 0.04923399, 0.01152285]),\n",
       "  array([0.00767973, 0.02109555, 0.04925455, 0.16494821, 0.24413947,\n",
       "         0.23709972, 0.15423452, 0.08435848, 0.02443765, 0.01275214])],\n",
       " array([ 9.5, 10.5, 11.5, 12.5, 13.5, 14.5, 15.5, 16.5, 17.5, 18.5, 19.5]),\n",
       " <a list of 2 Lists of Patches objects>)"
      ]
     },
     "execution_count": 8,
     "metadata": {},
     "output_type": "execute_result"
    },
    {
     "data": {
      "image/png": "[encoded data removed]",
      "text/plain": [
       "<Figure size 432x288 with 1 Axes>"
      ]
     },
     "metadata": {},
     "output_type": "display_data"
    }
   ],
   "source": [
    "plt.hist([smith_data_sizumi[\"Turn\"],smith_data_sizumazu[\"Turn\"]],bins=10, range=(9.5,19.5), density=True, rwidth=0.5)"
   ]
  },
  {
   "cell_type": "code",
   "execution_count": null,
   "metadata": {},
   "outputs": [],
   "source": []
  }
 ],
 "metadata": {
  "kernelspec": {
   "display_name": "Python 3",
   "language": "python",
   "name": "python3"
  },
  "language_info": {
   "codemirror_mode": {
    "name": "ipython",
    "version": 3
   },
   "file_extension": ".py",
   "mimetype": "text/x-python",
   "name": "python",
   "nbconvert_exporter": "python",
   "pygments_lexer": "ipython3",
   "version": "3.6.5"
  }
 },
 "nbformat": 4,
 "nbformat_minor": 2
}
